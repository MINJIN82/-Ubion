{
  "nbformat": 4,
  "nbformat_minor": 0,
  "metadata": {
    "colab": {
      "provenance": [],
      "mount_file_id": "1JC0TFtTiUdBDH8UJZEGeaNcGNL_ssF9x",
      "authorship_tag": "ABX9TyMVotRieXWFzUBBt8tOd6OS",
      "include_colab_link": true
    },
    "kernelspec": {
      "name": "python3",
      "display_name": "Python 3"
    },
    "language_info": {
      "name": "python"
    }
  },
  "cells": [
    {
      "cell_type": "markdown",
      "metadata": {
        "id": "view-in-github",
        "colab_type": "text"
      },
      "source": [
        "<a href=\"https://colab.research.google.com/github/MINJIN82/-Ubion/blob/main/Ashopping_2.ipynb\" target=\"_parent\"><img src=\"https://colab.research.google.com/assets/colab-badge.svg\" alt=\"Open In Colab\"/></a>"
      ]
    },
    {
      "cell_type": "code",
      "source": [
        "!sudo apt-get install -y fonts-nanum\n",
        "!sudo fc-cache -fv\n",
        "!rm ~/.cache/matplotlib -rf"
      ],
      "metadata": {
        "colab": {
          "base_uri": "https://localhost:8080/"
        },
        "id": "XzT6TctMsqsA",
        "outputId": "f15cc069-bf13-4632-e4fd-13efa0634787"
      },
      "execution_count": 21,
      "outputs": [
        {
          "output_type": "stream",
          "name": "stdout",
          "text": [
            "Reading package lists... Done\n",
            "Building dependency tree       \n",
            "Reading state information... Done\n",
            "fonts-nanum is already the newest version (20180306-3).\n",
            "0 upgraded, 0 newly installed, 0 to remove and 23 not upgraded.\n",
            "/usr/share/fonts: caching, new cache contents: 0 fonts, 1 dirs\n",
            "/usr/share/fonts/truetype: caching, new cache contents: 0 fonts, 3 dirs\n",
            "/usr/share/fonts/truetype/humor-sans: caching, new cache contents: 1 fonts, 0 dirs\n",
            "/usr/share/fonts/truetype/liberation: caching, new cache contents: 16 fonts, 0 dirs\n",
            "/usr/share/fonts/truetype/nanum: caching, new cache contents: 10 fonts, 0 dirs\n",
            "/usr/local/share/fonts: caching, new cache contents: 0 fonts, 0 dirs\n",
            "/root/.local/share/fonts: skipping, no such directory\n",
            "/root/.fonts: skipping, no such directory\n",
            "/usr/share/fonts/truetype: skipping, looped directory detected\n",
            "/usr/share/fonts/truetype/humor-sans: skipping, looped directory detected\n",
            "/usr/share/fonts/truetype/liberation: skipping, looped directory detected\n",
            "/usr/share/fonts/truetype/nanum: skipping, looped directory detected\n",
            "/var/cache/fontconfig: cleaning cache directory\n",
            "/root/.cache/fontconfig: not cleaning non-existent cache directory\n",
            "/root/.fontconfig: not cleaning non-existent cache directory\n",
            "fc-cache: succeeded\n"
          ]
        }
      ]
    },
    {
      "cell_type": "code",
      "source": [
        "import matplotlib.pyplot as plt\n",
        "plt.rc('font',family='NanumbarunGothic')"
      ],
      "metadata": {
        "id": "7uYYYQpPsrjk"
      },
      "execution_count": 1,
      "outputs": []
    },
    {
      "cell_type": "code",
      "source": [
        "from matplotlib import pyplot as plt\n",
        "from pandas import DataFrame\n",
        "import numpy as np\n",
        "import pandas as pd\n",
        "import math\n",
        "import sklearn.preprocessing \n",
        "from scipy import stats\n",
        "import scipy as sp\n",
        "from statsmodels.formula.api import ols\n",
        "from statsmodels.stats.anova import anova_lm"
      ],
      "metadata": {
        "id": "emCYvcrLsvWX"
      },
      "execution_count": 2,
      "outputs": []
    },
    {
      "cell_type": "code",
      "source": [
        "df=pd.read_excel(\"/content/drive/MyDrive/mini/230322_ashopping_class_vip.xlsx\")\n",
        "df.head()"
      ],
      "metadata": {
        "colab": {
          "base_uri": "https://localhost:8080/",
          "height": 235
        },
        "id": "s6RG2RWnsxvy",
        "outputId": "e3088ff2-06e2-4332-ac05-53788daba96d"
      },
      "execution_count": 3,
      "outputs": [
        {
          "output_type": "execute_result",
          "data": {
            "text/plain": [
              "   고객ID  이탈여부     총_매출액  방문빈도  1회_평균매출액  할인권_사용 횟수  총_할인_금액  고객등급  구매유형  \\\n",
              "0     5     0  13745950    73    188301          9   246350     1     2   \n",
              "1     8     0  12717240   109    116672          4   354735     1     2   \n",
              "2    40     0  14410060    24    600419         15   326795     1     3   \n",
              "3    52     0  19283170    33    584338          1     3750     1     3   \n",
              "4    59     0  14091390    56    251632         22   351745     1     2   \n",
              "\n",
              "   클레임접수여부  ...  시야_확보성  음향_적절성  안내_표지판_설명  친절성  신속성  책임성  정확성  전문성  \\\n",
              "0        0  ...       6       6          5    5    6    6    5    6   \n",
              "1        1  ...       5       7          6    6    5    6    6    6   \n",
              "2        0  ...       7       6          5    5    7    6    6    6   \n",
              "3        0  ...       6       6          6    6    6    6    6    6   \n",
              "4        0  ...       6       6          5    4    5    6    5    5   \n",
              "\n",
              "   Recency_reverse  Class  \n",
              "0                1      1  \n",
              "1                1      1  \n",
              "2                1      1  \n",
              "3                1      1  \n",
              "4                1      1  \n",
              "\n",
              "[5 rows x 41 columns]"
            ],
            "text/html": [
              "\n",
              "  <div id=\"df-f2e1b6b3-9813-4751-a46d-9d3342baaf09\">\n",
              "    <div class=\"colab-df-container\">\n",
              "      <div>\n",
              "<style scoped>\n",
              "    .dataframe tbody tr th:only-of-type {\n",
              "        vertical-align: middle;\n",
              "    }\n",
              "\n",
              "    .dataframe tbody tr th {\n",
              "        vertical-align: top;\n",
              "    }\n",
              "\n",
              "    .dataframe thead th {\n",
              "        text-align: right;\n",
              "    }\n",
              "</style>\n",
              "<table border=\"1\" class=\"dataframe\">\n",
              "  <thead>\n",
              "    <tr style=\"text-align: right;\">\n",
              "      <th></th>\n",
              "      <th>고객ID</th>\n",
              "      <th>이탈여부</th>\n",
              "      <th>총_매출액</th>\n",
              "      <th>방문빈도</th>\n",
              "      <th>1회_평균매출액</th>\n",
              "      <th>할인권_사용 횟수</th>\n",
              "      <th>총_할인_금액</th>\n",
              "      <th>고객등급</th>\n",
              "      <th>구매유형</th>\n",
              "      <th>클레임접수여부</th>\n",
              "      <th>...</th>\n",
              "      <th>시야_확보성</th>\n",
              "      <th>음향_적절성</th>\n",
              "      <th>안내_표지판_설명</th>\n",
              "      <th>친절성</th>\n",
              "      <th>신속성</th>\n",
              "      <th>책임성</th>\n",
              "      <th>정확성</th>\n",
              "      <th>전문성</th>\n",
              "      <th>Recency_reverse</th>\n",
              "      <th>Class</th>\n",
              "    </tr>\n",
              "  </thead>\n",
              "  <tbody>\n",
              "    <tr>\n",
              "      <th>0</th>\n",
              "      <td>5</td>\n",
              "      <td>0</td>\n",
              "      <td>13745950</td>\n",
              "      <td>73</td>\n",
              "      <td>188301</td>\n",
              "      <td>9</td>\n",
              "      <td>246350</td>\n",
              "      <td>1</td>\n",
              "      <td>2</td>\n",
              "      <td>0</td>\n",
              "      <td>...</td>\n",
              "      <td>6</td>\n",
              "      <td>6</td>\n",
              "      <td>5</td>\n",
              "      <td>5</td>\n",
              "      <td>6</td>\n",
              "      <td>6</td>\n",
              "      <td>5</td>\n",
              "      <td>6</td>\n",
              "      <td>1</td>\n",
              "      <td>1</td>\n",
              "    </tr>\n",
              "    <tr>\n",
              "      <th>1</th>\n",
              "      <td>8</td>\n",
              "      <td>0</td>\n",
              "      <td>12717240</td>\n",
              "      <td>109</td>\n",
              "      <td>116672</td>\n",
              "      <td>4</td>\n",
              "      <td>354735</td>\n",
              "      <td>1</td>\n",
              "      <td>2</td>\n",
              "      <td>1</td>\n",
              "      <td>...</td>\n",
              "      <td>5</td>\n",
              "      <td>7</td>\n",
              "      <td>6</td>\n",
              "      <td>6</td>\n",
              "      <td>5</td>\n",
              "      <td>6</td>\n",
              "      <td>6</td>\n",
              "      <td>6</td>\n",
              "      <td>1</td>\n",
              "      <td>1</td>\n",
              "    </tr>\n",
              "    <tr>\n",
              "      <th>2</th>\n",
              "      <td>40</td>\n",
              "      <td>0</td>\n",
              "      <td>14410060</td>\n",
              "      <td>24</td>\n",
              "      <td>600419</td>\n",
              "      <td>15</td>\n",
              "      <td>326795</td>\n",
              "      <td>1</td>\n",
              "      <td>3</td>\n",
              "      <td>0</td>\n",
              "      <td>...</td>\n",
              "      <td>7</td>\n",
              "      <td>6</td>\n",
              "      <td>5</td>\n",
              "      <td>5</td>\n",
              "      <td>7</td>\n",
              "      <td>6</td>\n",
              "      <td>6</td>\n",
              "      <td>6</td>\n",
              "      <td>1</td>\n",
              "      <td>1</td>\n",
              "    </tr>\n",
              "    <tr>\n",
              "      <th>3</th>\n",
              "      <td>52</td>\n",
              "      <td>0</td>\n",
              "      <td>19283170</td>\n",
              "      <td>33</td>\n",
              "      <td>584338</td>\n",
              "      <td>1</td>\n",
              "      <td>3750</td>\n",
              "      <td>1</td>\n",
              "      <td>3</td>\n",
              "      <td>0</td>\n",
              "      <td>...</td>\n",
              "      <td>6</td>\n",
              "      <td>6</td>\n",
              "      <td>6</td>\n",
              "      <td>6</td>\n",
              "      <td>6</td>\n",
              "      <td>6</td>\n",
              "      <td>6</td>\n",
              "      <td>6</td>\n",
              "      <td>1</td>\n",
              "      <td>1</td>\n",
              "    </tr>\n",
              "    <tr>\n",
              "      <th>4</th>\n",
              "      <td>59</td>\n",
              "      <td>0</td>\n",
              "      <td>14091390</td>\n",
              "      <td>56</td>\n",
              "      <td>251632</td>\n",
              "      <td>22</td>\n",
              "      <td>351745</td>\n",
              "      <td>1</td>\n",
              "      <td>2</td>\n",
              "      <td>0</td>\n",
              "      <td>...</td>\n",
              "      <td>6</td>\n",
              "      <td>6</td>\n",
              "      <td>5</td>\n",
              "      <td>4</td>\n",
              "      <td>5</td>\n",
              "      <td>6</td>\n",
              "      <td>5</td>\n",
              "      <td>5</td>\n",
              "      <td>1</td>\n",
              "      <td>1</td>\n",
              "    </tr>\n",
              "  </tbody>\n",
              "</table>\n",
              "<p>5 rows × 41 columns</p>\n",
              "</div>\n",
              "      <button class=\"colab-df-convert\" onclick=\"convertToInteractive('df-f2e1b6b3-9813-4751-a46d-9d3342baaf09')\"\n",
              "              title=\"Convert this dataframe to an interactive table.\"\n",
              "              style=\"display:none;\">\n",
              "        \n",
              "  <svg xmlns=\"http://www.w3.org/2000/svg\" height=\"24px\"viewBox=\"0 0 24 24\"\n",
              "       width=\"24px\">\n",
              "    <path d=\"M0 0h24v24H0V0z\" fill=\"none\"/>\n",
              "    <path d=\"M18.56 5.44l.94 2.06.94-2.06 2.06-.94-2.06-.94-.94-2.06-.94 2.06-2.06.94zm-11 1L8.5 8.5l.94-2.06 2.06-.94-2.06-.94L8.5 2.5l-.94 2.06-2.06.94zm10 10l.94 2.06.94-2.06 2.06-.94-2.06-.94-.94-2.06-.94 2.06-2.06.94z\"/><path d=\"M17.41 7.96l-1.37-1.37c-.4-.4-.92-.59-1.43-.59-.52 0-1.04.2-1.43.59L10.3 9.45l-7.72 7.72c-.78.78-.78 2.05 0 2.83L4 21.41c.39.39.9.59 1.41.59.51 0 1.02-.2 1.41-.59l7.78-7.78 2.81-2.81c.8-.78.8-2.07 0-2.86zM5.41 20L4 18.59l7.72-7.72 1.47 1.35L5.41 20z\"/>\n",
              "  </svg>\n",
              "      </button>\n",
              "      \n",
              "  <style>\n",
              "    .colab-df-container {\n",
              "      display:flex;\n",
              "      flex-wrap:wrap;\n",
              "      gap: 12px;\n",
              "    }\n",
              "\n",
              "    .colab-df-convert {\n",
              "      background-color: #E8F0FE;\n",
              "      border: none;\n",
              "      border-radius: 50%;\n",
              "      cursor: pointer;\n",
              "      display: none;\n",
              "      fill: #1967D2;\n",
              "      height: 32px;\n",
              "      padding: 0 0 0 0;\n",
              "      width: 32px;\n",
              "    }\n",
              "\n",
              "    .colab-df-convert:hover {\n",
              "      background-color: #E2EBFA;\n",
              "      box-shadow: 0px 1px 2px rgba(60, 64, 67, 0.3), 0px 1px 3px 1px rgba(60, 64, 67, 0.15);\n",
              "      fill: #174EA6;\n",
              "    }\n",
              "\n",
              "    [theme=dark] .colab-df-convert {\n",
              "      background-color: #3B4455;\n",
              "      fill: #D2E3FC;\n",
              "    }\n",
              "\n",
              "    [theme=dark] .colab-df-convert:hover {\n",
              "      background-color: #434B5C;\n",
              "      box-shadow: 0px 1px 3px 1px rgba(0, 0, 0, 0.15);\n",
              "      filter: drop-shadow(0px 1px 2px rgba(0, 0, 0, 0.3));\n",
              "      fill: #FFFFFF;\n",
              "    }\n",
              "  </style>\n",
              "\n",
              "      <script>\n",
              "        const buttonEl =\n",
              "          document.querySelector('#df-f2e1b6b3-9813-4751-a46d-9d3342baaf09 button.colab-df-convert');\n",
              "        buttonEl.style.display =\n",
              "          google.colab.kernel.accessAllowed ? 'block' : 'none';\n",
              "\n",
              "        async function convertToInteractive(key) {\n",
              "          const element = document.querySelector('#df-f2e1b6b3-9813-4751-a46d-9d3342baaf09');\n",
              "          const dataTable =\n",
              "            await google.colab.kernel.invokeFunction('convertToInteractive',\n",
              "                                                     [key], {});\n",
              "          if (!dataTable) return;\n",
              "\n",
              "          const docLinkHtml = 'Like what you see? Visit the ' +\n",
              "            '<a target=\"_blank\" href=https://colab.research.google.com/notebooks/data_table.ipynb>data table notebook</a>'\n",
              "            + ' to learn more about interactive tables.';\n",
              "          element.innerHTML = '';\n",
              "          dataTable['output_type'] = 'display_data';\n",
              "          await google.colab.output.renderOutput(dataTable, element);\n",
              "          const docLink = document.createElement('div');\n",
              "          docLink.innerHTML = docLinkHtml;\n",
              "          element.appendChild(docLink);\n",
              "        }\n",
              "      </script>\n",
              "    </div>\n",
              "  </div>\n",
              "  "
            ]
          },
          "metadata": {},
          "execution_count": 3
        }
      ]
    },
    {
      "cell_type": "code",
      "source": [
        "df.isnull().sum()"
      ],
      "metadata": {
        "colab": {
          "base_uri": "https://localhost:8080/"
        },
        "id": "ONEp7tYVs9H2",
        "outputId": "95eaa341-767b-4c67-c6c1-958b0ce77f5d"
      },
      "execution_count": 4,
      "outputs": [
        {
          "output_type": "execute_result",
          "data": {
            "text/plain": [
              "고객ID                 0\n",
              "이탈여부                 0\n",
              "총_매출액                0\n",
              "방문빈도                 0\n",
              "1회_평균매출액             0\n",
              "할인권_사용 횟수            0\n",
              "총_할인_금액              0\n",
              "고객등급                 0\n",
              "구매유형                 0\n",
              "클레임접수여부              0\n",
              "구매_카테고리_수            0\n",
              "거주지역                 0\n",
              "성별                   0\n",
              "고객_나이대               0\n",
              "거래기간                 0\n",
              "할인민감여부               0\n",
              "멤버쉽_프로그램_가입전_만족도     0\n",
              "멤버쉽_프로그램_가입후_만족도     0\n",
              "Recency              0\n",
              "Frequency            0\n",
              "Monetary             0\n",
              "상품_만족도               0\n",
              "매장_만족도               0\n",
              "서비스_만족도              0\n",
              "상품_품질                0\n",
              "상품_다양성               0\n",
              "가격_적절성               0\n",
              "상품_진열_위치            17\n",
              "상품_설명_표시            40\n",
              "매장_청결성               0\n",
              "공간_편의성               0\n",
              "시야_확보성               0\n",
              "음향_적절성               0\n",
              "안내_표지판_설명            0\n",
              "친절성                  0\n",
              "신속성                  0\n",
              "책임성                  0\n",
              "정확성                  0\n",
              "전문성                  0\n",
              "Recency_reverse      0\n",
              "Class                0\n",
              "dtype: int64"
            ]
          },
          "metadata": {},
          "execution_count": 4
        }
      ]
    },
    {
      "cell_type": "code",
      "source": [
        "df =df.fillna(0)\n",
        "df.isnull().sum()"
      ],
      "metadata": {
        "colab": {
          "base_uri": "https://localhost:8080/"
        },
        "id": "TXfUZ4GbtCbh",
        "outputId": "bc970e8b-b683-49fe-bdaa-7c4555716ddc"
      },
      "execution_count": 5,
      "outputs": [
        {
          "output_type": "execute_result",
          "data": {
            "text/plain": [
              "고객ID                0\n",
              "이탈여부                0\n",
              "총_매출액               0\n",
              "방문빈도                0\n",
              "1회_평균매출액            0\n",
              "할인권_사용 횟수           0\n",
              "총_할인_금액             0\n",
              "고객등급                0\n",
              "구매유형                0\n",
              "클레임접수여부             0\n",
              "구매_카테고리_수           0\n",
              "거주지역                0\n",
              "성별                  0\n",
              "고객_나이대              0\n",
              "거래기간                0\n",
              "할인민감여부              0\n",
              "멤버쉽_프로그램_가입전_만족도    0\n",
              "멤버쉽_프로그램_가입후_만족도    0\n",
              "Recency             0\n",
              "Frequency           0\n",
              "Monetary            0\n",
              "상품_만족도              0\n",
              "매장_만족도              0\n",
              "서비스_만족도             0\n",
              "상품_품질               0\n",
              "상품_다양성              0\n",
              "가격_적절성              0\n",
              "상품_진열_위치            0\n",
              "상품_설명_표시            0\n",
              "매장_청결성              0\n",
              "공간_편의성              0\n",
              "시야_확보성              0\n",
              "음향_적절성              0\n",
              "안내_표지판_설명           0\n",
              "친절성                 0\n",
              "신속성                 0\n",
              "책임성                 0\n",
              "정확성                 0\n",
              "전문성                 0\n",
              "Recency_reverse     0\n",
              "Class               0\n",
              "dtype: int64"
            ]
          },
          "metadata": {},
          "execution_count": 5
        }
      ]
    },
    {
      "cell_type": "code",
      "source": [
        "df.columns"
      ],
      "metadata": {
        "colab": {
          "base_uri": "https://localhost:8080/"
        },
        "id": "M-NdB3nZtXVd",
        "outputId": "4c2a3e53-5ca7-4408-98fa-576914a66472"
      },
      "execution_count": 6,
      "outputs": [
        {
          "output_type": "execute_result",
          "data": {
            "text/plain": [
              "Index(['고객ID', '이탈여부', '총_매출액', '방문빈도', '1회_평균매출액', '할인권_사용 횟수', '총_할인_금액',\n",
              "       '고객등급', '구매유형', '클레임접수여부', '구매_카테고리_수', '거주지역', '성별', '고객_나이대', '거래기간',\n",
              "       '할인민감여부', '멤버쉽_프로그램_가입전_만족도', '멤버쉽_프로그램_가입후_만족도', 'Recency',\n",
              "       'Frequency', 'Monetary', '상품_만족도', '매장_만족도', '서비스_만족도', '상품_품질',\n",
              "       '상품_다양성', '가격_적절성', '상품_진열_위치', '상품_설명_표시', '매장_청결성', '공간_편의성',\n",
              "       '시야_확보성', '음향_적절성', '안내_표지판_설명', '친절성', '신속성', '책임성', '정확성', '전문성',\n",
              "       'Recency_reverse', 'Class'],\n",
              "      dtype='object')"
            ]
          },
          "metadata": {},
          "execution_count": 6
        }
      ]
    },
    {
      "cell_type": "code",
      "source": [
        "import matplotlib\n",
        "import seaborn as sns\n",
        "import pandas as pd\n",
        "from scipy import stats"
      ],
      "metadata": {
        "id": "AeVz7wvwtbFs"
      },
      "execution_count": 18,
      "outputs": []
    },
    {
      "cell_type": "code",
      "source": [
        "df[\"1회_평균매출액\"].hist()"
      ],
      "metadata": {
        "colab": {
          "base_uri": "https://localhost:8080/",
          "height": 296
        },
        "id": "9d1szrbet1jE",
        "outputId": "592bb045-576f-46e8-a6d1-107a741d0649"
      },
      "execution_count": 7,
      "outputs": [
        {
          "output_type": "execute_result",
          "data": {
            "text/plain": [
              "<Axes: >"
            ]
          },
          "metadata": {},
          "execution_count": 7
        },
        {
          "output_type": "display_data",
          "data": {
            "text/plain": [
              "<Figure size 432x288 with 1 Axes>"
            ],
            "image/png": "[encoded data removed]"
          },
          "metadata": {
            "needs_background": "light"
          }
        }
      ]
    },
    {
      "cell_type": "code",
      "source": [
        "df.boxplot(column=\"1회_평균매출액\", return_type=\"both\")"
      ],
      "metadata": {
        "colab": {
          "base_uri": "https://localhost:8080/",
          "height": 312
        },
        "id": "x3430urHt9y1",
        "outputId": "ca37bef9-d099-457f-d1ef-17a9ebd944c3"
      },
      "execution_count": 8,
      "outputs": [
        {
          "output_type": "execute_result",
          "data": {
            "text/plain": [
              "BP(ax=<Axes: >, lines={'whiskers': [<matplotlib.lines.Line2D object at 0x7f52ad40e730>, <matplotlib.lines.Line2D object at 0x7f52ad40e9d0>], 'caps': [<matplotlib.lines.Line2D object at 0x7f52ad40ec70>, <matplotlib.lines.Line2D object at 0x7f52ad40ef10>], 'boxes': [<matplotlib.lines.Line2D object at 0x7f52ad40e490>], 'medians': [<matplotlib.lines.Line2D object at 0x7f52ad4241f0>], 'fliers': [<matplotlib.lines.Line2D object at 0x7f52ad424490>], 'means': []})"
            ]
          },
          "metadata": {},
          "execution_count": 8
        },
        {
          "output_type": "display_data",
          "data": {
            "text/plain": [
              "<Figure size 432x288 with 1 Axes>"
            ],
            "image/png": "[encoded data removed]"
          },
          "metadata": {
            "needs_background": "light"
          }
        }
      ]
    },
    {
      "cell_type": "code",
      "source": [
        "q1 = df[\"1회_평균매출액\"].quantile(q=0.25)\n",
        "q3 = df[\"1회_평균매출액\"].quantile(q=0.75)\n",
        "IQR = q3-q1\n",
        "IQR\n",
        "\n",
        "data_IQR = df[(df[\"1회_평균매출액\"] < q3 + IQR * 1.5) & (df[\"1회_평균매출액\"] > q1 - IQR * 1.5)]\n",
        "data_IQR[\"1회_평균매출액\"].hist()"
      ],
      "metadata": {
        "colab": {
          "base_uri": "https://localhost:8080/",
          "height": 285
        },
        "id": "qfqb4eEVuNqj",
        "outputId": "2b03ecc2-641b-46d0-b87e-4cde7c3d7b0b"
      },
      "execution_count": 9,
      "outputs": [
        {
          "output_type": "execute_result",
          "data": {
            "text/plain": [
              "<Axes: >"
            ]
          },
          "metadata": {},
          "execution_count": 9
        },
        {
          "output_type": "display_data",
          "data": {
            "text/plain": [
              "<Figure size 432x288 with 1 Axes>"
            ],
            "image/png": "[encoded data removed]"
          },
          "metadata": {
            "needs_background": "light"
          }
        }
      ]
    },
    {
      "cell_type": "code",
      "source": [
        "df=data_IQR\n",
        "df.head()"
      ],
      "metadata": {
        "colab": {
          "base_uri": "https://localhost:8080/",
          "height": 235
        },
        "id": "5-xQgAfSu1VF",
        "outputId": "1f35516f-bbab-438b-a45b-3741403df8d9"
      },
      "execution_count": 10,
      "outputs": [
        {
          "output_type": "execute_result",
          "data": {
            "text/plain": [
              "   고객ID  이탈여부     총_매출액  방문빈도  1회_평균매출액  할인권_사용 횟수  총_할인_금액  고객등급  구매유형  \\\n",
              "0     5     0  13745950    73    188301          9   246350     1     2   \n",
              "1     8     0  12717240   109    116672          4   354735     1     2   \n",
              "2    40     0  14410060    24    600419         15   326795     1     3   \n",
              "3    52     0  19283170    33    584338          1     3750     1     3   \n",
              "4    59     0  14091390    56    251632         22   351745     1     2   \n",
              "\n",
              "   클레임접수여부  ...  시야_확보성  음향_적절성  안내_표지판_설명  친절성  신속성  책임성  정확성  전문성  \\\n",
              "0        0  ...       6       6          5    5    6    6    5    6   \n",
              "1        1  ...       5       7          6    6    5    6    6    6   \n",
              "2        0  ...       7       6          5    5    7    6    6    6   \n",
              "3        0  ...       6       6          6    6    6    6    6    6   \n",
              "4        0  ...       6       6          5    4    5    6    5    5   \n",
              "\n",
              "   Recency_reverse  Class  \n",
              "0                1      1  \n",
              "1                1      1  \n",
              "2                1      1  \n",
              "3                1      1  \n",
              "4                1      1  \n",
              "\n",
              "[5 rows x 41 columns]"
            ],
            "text/html": [
              "\n",
              "  <div id=\"df-b67426f2-ef17-4b87-863a-ba333e71f43b\">\n",
              "    <div class=\"colab-df-container\">\n",
              "      <div>\n",
              "<style scoped>\n",
              "    .dataframe tbody tr th:only-of-type {\n",
              "        vertical-align: middle;\n",
              "    }\n",
              "\n",
              "    .dataframe tbody tr th {\n",
              "        vertical-align: top;\n",
              "    }\n",
              "\n",
              "    .dataframe thead th {\n",
              "        text-align: right;\n",
              "    }\n",
              "</style>\n",
              "<table border=\"1\" class=\"dataframe\">\n",
              "  <thead>\n",
              "    <tr style=\"text-align: right;\">\n",
              "      <th></th>\n",
              "      <th>고객ID</th>\n",
              "      <th>이탈여부</th>\n",
              "      <th>총_매출액</th>\n",
              "      <th>방문빈도</th>\n",
              "      <th>1회_평균매출액</th>\n",
              "      <th>할인권_사용 횟수</th>\n",
              "      <th>총_할인_금액</th>\n",
              "      <th>고객등급</th>\n",
              "      <th>구매유형</th>\n",
              "      <th>클레임접수여부</th>\n",
              "      <th>...</th>\n",
              "      <th>시야_확보성</th>\n",
              "      <th>음향_적절성</th>\n",
              "      <th>안내_표지판_설명</th>\n",
              "      <th>친절성</th>\n",
              "      <th>신속성</th>\n",
              "      <th>책임성</th>\n",
              "      <th>정확성</th>\n",
              "      <th>전문성</th>\n",
              "      <th>Recency_reverse</th>\n",
              "      <th>Class</th>\n",
              "    </tr>\n",
              "  </thead>\n",
              "  <tbody>\n",
              "    <tr>\n",
              "      <th>0</th>\n",
              "      <td>5</td>\n",
              "      <td>0</td>\n",
              "      <td>13745950</td>\n",
              "      <td>73</td>\n",
              "      <td>188301</td>\n",
              "      <td>9</td>\n",
              "      <td>246350</td>\n",
              "      <td>1</td>\n",
              "      <td>2</td>\n",
              "      <td>0</td>\n",
              "      <td>...</td>\n",
              "      <td>6</td>\n",
              "      <td>6</td>\n",
              "      <td>5</td>\n",
              "      <td>5</td>\n",
              "      <td>6</td>\n",
              "      <td>6</td>\n",
              "      <td>5</td>\n",
              "      <td>6</td>\n",
              "      <td>1</td>\n",
              "      <td>1</td>\n",
              "    </tr>\n",
              "    <tr>\n",
              "      <th>1</th>\n",
              "      <td>8</td>\n",
              "      <td>0</td>\n",
              "      <td>12717240</td>\n",
              "      <td>109</td>\n",
              "      <td>116672</td>\n",
              "      <td>4</td>\n",
              "      <td>354735</td>\n",
              "      <td>1</td>\n",
              "      <td>2</td>\n",
              "      <td>1</td>\n",
              "      <td>...</td>\n",
              "      <td>5</td>\n",
              "      <td>7</td>\n",
              "      <td>6</td>\n",
              "      <td>6</td>\n",
              "      <td>5</td>\n",
              "      <td>6</td>\n",
              "      <td>6</td>\n",
              "      <td>6</td>\n",
              "      <td>1</td>\n",
              "      <td>1</td>\n",
              "    </tr>\n",
              "    <tr>\n",
              "      <th>2</th>\n",
              "      <td>40</td>\n",
              "      <td>0</td>\n",
              "      <td>14410060</td>\n",
              "      <td>24</td>\n",
              "      <td>600419</td>\n",
              "      <td>15</td>\n",
              "      <td>326795</td>\n",
              "      <td>1</td>\n",
              "      <td>3</td>\n",
              "      <td>0</td>\n",
              "      <td>...</td>\n",
              "      <td>7</td>\n",
              "      <td>6</td>\n",
              "      <td>5</td>\n",
              "      <td>5</td>\n",
              "      <td>7</td>\n",
              "      <td>6</td>\n",
              "      <td>6</td>\n",
              "      <td>6</td>\n",
              "      <td>1</td>\n",
              "      <td>1</td>\n",
              "    </tr>\n",
              "    <tr>\n",
              "      <th>3</th>\n",
              "      <td>52</td>\n",
              "      <td>0</td>\n",
              "      <td>19283170</td>\n",
              "      <td>33</td>\n",
              "      <td>584338</td>\n",
              "      <td>1</td>\n",
              "      <td>3750</td>\n",
              "      <td>1</td>\n",
              "      <td>3</td>\n",
              "      <td>0</td>\n",
              "      <td>...</td>\n",
              "      <td>6</td>\n",
              "      <td>6</td>\n",
              "      <td>6</td>\n",
              "      <td>6</td>\n",
              "      <td>6</td>\n",
              "      <td>6</td>\n",
              "      <td>6</td>\n",
              "      <td>6</td>\n",
              "      <td>1</td>\n",
              "      <td>1</td>\n",
              "    </tr>\n",
              "    <tr>\n",
              "      <th>4</th>\n",
              "      <td>59</td>\n",
              "      <td>0</td>\n",
              "      <td>14091390</td>\n",
              "      <td>56</td>\n",
              "      <td>251632</td>\n",
              "      <td>22</td>\n",
              "      <td>351745</td>\n",
              "      <td>1</td>\n",
              "      <td>2</td>\n",
              "      <td>0</td>\n",
              "      <td>...</td>\n",
              "      <td>6</td>\n",
              "      <td>6</td>\n",
              "      <td>5</td>\n",
              "      <td>4</td>\n",
              "      <td>5</td>\n",
              "      <td>6</td>\n",
              "      <td>5</td>\n",
              "      <td>5</td>\n",
              "      <td>1</td>\n",
              "      <td>1</td>\n",
              "    </tr>\n",
              "  </tbody>\n",
              "</table>\n",
              "<p>5 rows × 41 columns</p>\n",
              "</div>\n",
              "      <button class=\"colab-df-convert\" onclick=\"convertToInteractive('df-b67426f2-ef17-4b87-863a-ba333e71f43b')\"\n",
              "              title=\"Convert this dataframe to an interactive table.\"\n",
              "              style=\"display:none;\">\n",
              "        \n",
              "  <svg xmlns=\"http://www.w3.org/2000/svg\" height=\"24px\"viewBox=\"0 0 24 24\"\n",
              "       width=\"24px\">\n",
              "    <path d=\"M0 0h24v24H0V0z\" fill=\"none\"/>\n",
              "    <path d=\"M18.56 5.44l.94 2.06.94-2.06 2.06-.94-2.06-.94-.94-2.06-.94 2.06-2.06.94zm-11 1L8.5 8.5l.94-2.06 2.06-.94-2.06-.94L8.5 2.5l-.94 2.06-2.06.94zm10 10l.94 2.06.94-2.06 2.06-.94-2.06-.94-.94-2.06-.94 2.06-2.06.94z\"/><path d=\"M17.41 7.96l-1.37-1.37c-.4-.4-.92-.59-1.43-.59-.52 0-1.04.2-1.43.59L10.3 9.45l-7.72 7.72c-.78.78-.78 2.05 0 2.83L4 21.41c.39.39.9.59 1.41.59.51 0 1.02-.2 1.41-.59l7.78-7.78 2.81-2.81c.8-.78.8-2.07 0-2.86zM5.41 20L4 18.59l7.72-7.72 1.47 1.35L5.41 20z\"/>\n",
              "  </svg>\n",
              "      </button>\n",
              "      \n",
              "  <style>\n",
              "    .colab-df-container {\n",
              "      display:flex;\n",
              "      flex-wrap:wrap;\n",
              "      gap: 12px;\n",
              "    }\n",
              "\n",
              "    .colab-df-convert {\n",
              "      background-color: #E8F0FE;\n",
              "      border: none;\n",
              "      border-radius: 50%;\n",
              "      cursor: pointer;\n",
              "      display: none;\n",
              "      fill: #1967D2;\n",
              "      height: 32px;\n",
              "      padding: 0 0 0 0;\n",
              "      width: 32px;\n",
              "    }\n",
              "\n",
              "    .colab-df-convert:hover {\n",
              "      background-color: #E2EBFA;\n",
              "      box-shadow: 0px 1px 2px rgba(60, 64, 67, 0.3), 0px 1px 3px 1px rgba(60, 64, 67, 0.15);\n",
              "      fill: #174EA6;\n",
              "    }\n",
              "\n",
              "    [theme=dark] .colab-df-convert {\n",
              "      background-color: #3B4455;\n",
              "      fill: #D2E3FC;\n",
              "    }\n",
              "\n",
              "    [theme=dark] .colab-df-convert:hover {\n",
              "      background-color: #434B5C;\n",
              "      box-shadow: 0px 1px 3px 1px rgba(0, 0, 0, 0.15);\n",
              "      filter: drop-shadow(0px 1px 2px rgba(0, 0, 0, 0.3));\n",
              "      fill: #FFFFFF;\n",
              "    }\n",
              "  </style>\n",
              "\n",
              "      <script>\n",
              "        const buttonEl =\n",
              "          document.querySelector('#df-b67426f2-ef17-4b87-863a-ba333e71f43b button.colab-df-convert');\n",
              "        buttonEl.style.display =\n",
              "          google.colab.kernel.accessAllowed ? 'block' : 'none';\n",
              "\n",
              "        async function convertToInteractive(key) {\n",
              "          const element = document.querySelector('#df-b67426f2-ef17-4b87-863a-ba333e71f43b');\n",
              "          const dataTable =\n",
              "            await google.colab.kernel.invokeFunction('convertToInteractive',\n",
              "                                                     [key], {});\n",
              "          if (!dataTable) return;\n",
              "\n",
              "          const docLinkHtml = 'Like what you see? Visit the ' +\n",
              "            '<a target=\"_blank\" href=https://colab.research.google.com/notebooks/data_table.ipynb>data table notebook</a>'\n",
              "            + ' to learn more about interactive tables.';\n",
              "          element.innerHTML = '';\n",
              "          dataTable['output_type'] = 'display_data';\n",
              "          await google.colab.output.renderOutput(dataTable, element);\n",
              "          const docLink = document.createElement('div');\n",
              "          docLink.innerHTML = docLinkHtml;\n",
              "          element.appendChild(docLink);\n",
              "        }\n",
              "      </script>\n",
              "    </div>\n",
              "  </div>\n",
              "  "
            ]
          },
          "metadata": {},
          "execution_count": 10
        }
      ]
    },
    {
      "cell_type": "code",
      "source": [
        "df.columns"
      ],
      "metadata": {
        "colab": {
          "base_uri": "https://localhost:8080/"
        },
        "id": "C4v1SqE5vBbI",
        "outputId": "7a27be2e-f70b-4c77-b6a1-9f48f1173158"
      },
      "execution_count": 11,
      "outputs": [
        {
          "output_type": "execute_result",
          "data": {
            "text/plain": [
              "Index(['고객ID', '이탈여부', '총_매출액', '방문빈도', '1회_평균매출액', '할인권_사용 횟수', '총_할인_금액',\n",
              "       '고객등급', '구매유형', '클레임접수여부', '구매_카테고리_수', '거주지역', '성별', '고객_나이대', '거래기간',\n",
              "       '할인민감여부', '멤버쉽_프로그램_가입전_만족도', '멤버쉽_프로그램_가입후_만족도', 'Recency',\n",
              "       'Frequency', 'Monetary', '상품_만족도', '매장_만족도', '서비스_만족도', '상품_품질',\n",
              "       '상품_다양성', '가격_적절성', '상품_진열_위치', '상품_설명_표시', '매장_청결성', '공간_편의성',\n",
              "       '시야_확보성', '음향_적절성', '안내_표지판_설명', '친절성', '신속성', '책임성', '정확성', '전문성',\n",
              "       'Recency_reverse', 'Class'],\n",
              "      dtype='object')"
            ]
          },
          "metadata": {},
          "execution_count": 11
        }
      ]
    },
    {
      "cell_type": "code",
      "source": [
        "import seaborn as sns"
      ],
      "metadata": {
        "id": "xRm6APMzvFMS"
      },
      "execution_count": 12,
      "outputs": []
    },
    {
      "cell_type": "code",
      "source": [
        "df[\"1회_평균매출액\"] = np.log1p(df[\"1회_평균매출액\"])\n",
        "sns.distplot(df[\"1회_평균매출액\"])\n",
        "#로그log 적용하여 크기 줄여주기,분포를 줄여준다 예측도 잘되고, 분석도 잘된다."
      ],
      "metadata": {
        "colab": {
          "base_uri": "https://localhost:8080/",
          "height": 500
        },
        "id": "EfjqqDhG1-qO",
        "outputId": "46d05fe0-d7cd-4288-a676-bd2c103f0001"
      },
      "execution_count": 14,
      "outputs": [
        {
          "output_type": "stream",
          "name": "stderr",
          "text": [
            "<ipython-input-14-4fe8c553a775>:2: UserWarning: \n",
            "\n",
            "`distplot` is a deprecated function and will be removed in seaborn v0.14.0.\n",
            "\n",
            "Please adapt your code to use either `displot` (a figure-level function with\n",
            "similar flexibility) or `histplot` (an axes-level function for histograms).\n",
            "\n",
            "For a guide to updating your code to use the new functions, please see\n",
            "https://gist.github.com/mwaskom/de44147ed2974457ad6372750bbe5751\n",
            "\n",
            "  sns.distplot(df[\"1회_평균매출액\"])\n"
          ]
        },
        {
          "output_type": "execute_result",
          "data": {
            "text/plain": [
              "<Axes: xlabel='1회_평균매출액', ylabel='Density'>"
            ]
          },
          "metadata": {},
          "execution_count": 14
        },
        {
          "output_type": "display_data",
          "data": {
            "text/plain": [
              "<Figure size 432x288 with 1 Axes>"
            ],
            "image/png": "[encoded data removed]"
          },
          "metadata": {
            "needs_background": "light"
          }
        }
      ]
    },
    {
      "cell_type": "code",
      "source": [
        "df.columns"
      ],
      "metadata": {
        "colab": {
          "base_uri": "https://localhost:8080/"
        },
        "id": "lpip6IC72MOA",
        "outputId": "398e2337-10cb-4979-ca4b-5d9d930de767"
      },
      "execution_count": 15,
      "outputs": [
        {
          "output_type": "execute_result",
          "data": {
            "text/plain": [
              "Index(['고객ID', '이탈여부', '총_매출액', '방문빈도', '1회_평균매출액', '할인권_사용 횟수', '총_할인_금액',\n",
              "       '고객등급', '구매유형', '클레임접수여부', '구매_카테고리_수', '거주지역', '성별', '고객_나이대', '거래기간',\n",
              "       '할인민감여부', '멤버쉽_프로그램_가입전_만족도', '멤버쉽_프로그램_가입후_만족도', 'Recency',\n",
              "       'Frequency', 'Monetary', '상품_만족도', '매장_만족도', '서비스_만족도', '상품_품질',\n",
              "       '상품_다양성', '가격_적절성', '상품_진열_위치', '상품_설명_표시', '매장_청결성', '공간_편의성',\n",
              "       '시야_확보성', '음향_적절성', '안내_표지판_설명', '친절성', '신속성', '책임성', '정확성', '전문성',\n",
              "       'Recency_reverse', 'Class'],\n",
              "      dtype='object')"
            ]
          },
          "metadata": {},
          "execution_count": 15
        }
      ]
    },
    {
      "cell_type": "code",
      "source": [
        "from sklearn.model_selection import train_test_split\n",
        "from sklearn.compose import ColumnTransformer\n",
        "from sklearn.preprocessing import StandardScaler\n",
        "from sklearn.preprocessing import OneHotEncoder #OneHotEncoder 0과1로 쪼개서 반영 /일일이 쪼갤 수 없기 떄문에 인코더로 적용\n",
        "\n",
        "num = [ '총_할인_금액', '할인권_사용 횟수','고객_나이대', '상품_만족도', '매장_만족도', '서비스_만족도'] #스케일러 적용\n",
        "cg = ['클레임접수여부','성별','구매유형'] #카테고리컬(범주형) \n",
        "\n",
        "X = df[num+cg]\n",
        "Y = df['1회_평균매출액']\n",
        "\n",
        "X_train, X_test, Y_train, Y_test = train_test_split(X, Y, test_size=0.3, random_state=0)\n",
        "\n",
        "#표준화, 원핫인코딩\n",
        "ct = ColumnTransformer([('scling',StandardScaler(),num),('onehot',OneHotEncoder(sparse = False),cg)])\n",
        "ct.fit(X_train)\n",
        "X_train = ct.transform(X_train)\n",
        "X_test = ct.transform(X_test)\n",
        "\n",
        "print(X_train[0])"
      ],
      "metadata": {
        "colab": {
          "base_uri": "https://localhost:8080/"
        },
        "id": "NdTduWMj2D8l",
        "outputId": "9064186c-8b12-43c6-c8d6-f6d7066f3e45"
      },
      "execution_count": 16,
      "outputs": [
        {
          "output_type": "stream",
          "name": "stdout",
          "text": [
            "[ 0.71742493  1.45672018 -1.51892237  0.63325869  1.60874178  1.27269196\n",
            "  0.          1.          0.          1.          1.          0.\n",
            "  0.        ]\n"
          ]
        },
        {
          "output_type": "stream",
          "name": "stderr",
          "text": [
            "/usr/local/lib/python3.9/dist-packages/sklearn/preprocessing/_encoders.py:868: FutureWarning: `sparse` was renamed to `sparse_output` in version 1.2 and will be removed in 1.4. `sparse_output` is ignored unless you leave `sparse` to its default value.\n",
            "  warnings.warn(\n"
          ]
        }
      ]
    },
    {
      "cell_type": "code",
      "source": [
        "from sklearn.linear_model import LinearRegression #LinearRegression 선형모델\n",
        "from sklearn.metrics import mean_squared_error \n",
        "from math import sqrt #sqrt 루트\n",
        "\n",
        "lr = LinearRegression().fit(X_train, Y_train) \n",
        "\n",
        "Y_pred = lr.predict(X_test)\n",
        "print(\"predict value\\n\",Y_pred)\n",
        "print(\"train R2 : {:.3f}\".format(lr.score(X_train, Y_train))) #트레인 데이터로 나온 R스퀘어\n",
        "print(\"test R2 : {:.3f}\".format(lr.score(X_test, Y_test))) \n",
        "\n",
        "rmse = sqrt(mean_squared_error(Y_test, Y_pred)) \n",
        "print(\"RMSE : {:.3f}\". format(rmse))"
      ],
      "metadata": {
        "colab": {
          "base_uri": "https://localhost:8080/"
        },
        "id": "XsrQiird3OXB",
        "outputId": "0b2cf926-7e75-47c9-d81a-9072e7b39d57"
      },
      "execution_count": 17,
      "outputs": [
        {
          "output_type": "stream",
          "name": "stdout",
          "text": [
            "predict value\n",
            " [12.41088597 13.25939113 13.34169367 13.12325526 12.41003122 12.43173457\n",
            " 12.48479045 12.75532928 12.51896319 12.80531737 12.36229606 12.60971814\n",
            " 13.10684228 12.42480903 12.46865764 12.44779905 12.54377604 12.38201524\n",
            " 13.20503094 13.45660958 12.40475715 13.35929205 12.38066568 13.4610587\n",
            " 12.37344583 13.29088669 12.5578555  13.19118028 12.53785294 13.33031504\n",
            " 12.51097413 12.30569037 13.34192504 13.05318984 12.47671951 12.34443667\n",
            " 12.69973189 12.80096292 12.4671947  12.63356547 12.43074992 12.37620383\n",
            " 12.60139523 12.36512793 12.65343663 13.53410322 12.6040006  12.53685784\n",
            " 12.36820098 13.4766322  12.42025274 12.35442125 12.39754862 12.33360079\n",
            " 12.33082202 12.35558869 13.31539929 12.39452853 12.39769632 13.44822306\n",
            " 13.39719322 12.6753503  12.93760217 12.37436723 12.27231254 13.50113729\n",
            " 13.25185743 12.42200629 12.23666264 12.46030835 13.41775428 12.29447862]\n",
            "train R2 : 0.619\n",
            "test R2 : 0.633\n",
            "RMSE : 0.284\n"
          ]
        }
      ]
    },
    {
      "cell_type": "code",
      "source": [
        "#릿지(L2) 모형이 라쏘(L1) 모형보다 예측을 더 잘한다.(오차가 적다)\n",
        "#다수의 변수, 변수의 계수(베타)를 0에 가깝게 만들어야하는 데이터 셋의 경우 라쏘가 더 낫다. \n",
        "#알파가 작아지느냐 알파가 커지느냐에 따라 규제 강도가 달라진다.\n",
        "#알파가 작으면 선형회귀 모형에 가까워지고, 커질 수록 릿지와 라쏘의 모형에 가까워진다.\n",
        "\n",
        "from sklearn.linear_model import Ridge\n",
        "\n",
        "lr_ridge = Ridge(random_state = 0). fit(X_train, Y_train)\n",
        "Y_pred = lr_ridge.predict(X_test)\n",
        "\n",
        "print(\"예측값(Y predict value)\\n\", Y_pred)\n",
        "\n",
        "rmse = sqrt(mean_squared_error(Y_test, Y_pred))\n",
        "print(\"ridge R2 : {:.3f}\". format(lr_ridge.score(X_train, Y_train)))\n",
        "print(\"RMSE : {:.3f}\".format(rmse))\n",
        "\n",
        "#비교\n",
        "print(\"lr R2 : {:.3f}\". format(lr_ridge.score(X_train, Y_train)))"
      ],
      "metadata": {
        "colab": {
          "base_uri": "https://localhost:8080/"
        },
        "id": "onyYruCO3UUI",
        "outputId": "fd52f183-2280-41b8-c9f3-86fc0493bf83"
      },
      "execution_count": 18,
      "outputs": [
        {
          "output_type": "stream",
          "name": "stdout",
          "text": [
            "예측값(Y predict value)\n",
            " [12.4168218  13.25105777 13.33356397 13.11781518 12.41541063 12.43667919\n",
            " 12.48521778 12.75169206 12.51814636 12.80915376 12.36857489 12.6147588\n",
            " 13.10551439 12.42887042 12.47892702 12.45654487 12.5464572  12.38290916\n",
            " 13.20023196 13.44895294 12.41572358 13.34983016 12.38476016 13.45303127\n",
            " 12.37596108 13.27921531 12.55770811 13.18240802 12.54023271 13.31940721\n",
            " 12.51653358 12.3116875  13.33236151 13.05269564 12.48401579 12.3480499\n",
            " 12.69966511 12.80529914 12.46651357 12.63532383 12.43744147 12.3793401\n",
            " 12.60455292 12.36871346 12.65492106 13.52353914 12.60904161 12.54171249\n",
            " 12.37557594 13.46451382 12.42371577 12.35907812 12.40021982 12.33951546\n",
            " 12.33558568 12.36261288 13.30839958 12.39940826 12.40194834 13.44000478\n",
            " 13.38587655 12.67901955 12.93909087 12.38162769 12.27781034 13.4919733\n",
            " 13.24123978 12.4261829  12.24108974 12.46379947 13.40881797 12.29910001]\n",
            "ridge R2 : 0.618\n",
            "RMSE : 0.283\n",
            "lr R2 : 0.618\n"
          ]
        }
      ]
    },
    {
      "cell_type": "code",
      "source": [
        "#라쏘\n",
        "from sklearn.linear_model import Lasso\n",
        "\n",
        "lr_lasso = Lasso(random_state = 0, alpha = 0.01, max_iter =1000). fit(X_train, Y_train) #alpha = 0.01, max_iter =1000) 등 연구자가 정해주는 값이 하이퍼 파라미터이다.\n",
        "#알파 값에 의해서 규제를 준다.\n",
        "Y_pred = lr_lasso.predict(X_test)\n",
        "\n",
        "print(\"예측값(Y predict value)\\n\", Y_pred)\n",
        "\n",
        "rmse = sqrt(mean_squared_error(Y_test, Y_pred))\n",
        "print(\"lasso R2 : {:.3f}\". format(lr_lasso.score(X_train, Y_train)))\n",
        "print(\"RMSE : {:.3f}\".format(rmse))\n",
        "\n",
        "#비교\n",
        "print(\"lr R2 : {:.3f}\". format(lr.score(X_train, Y_train)))\n",
        "print(\"ridge R2 : {:.3f}\". format(lr_ridge.score(X_train, Y_train)))"
      ],
      "metadata": {
        "colab": {
          "base_uri": "https://localhost:8080/"
        },
        "id": "cRiNui5A3bgU",
        "outputId": "30b407d1-4483-4e64-e08e-336b8c274647"
      },
      "execution_count": 19,
      "outputs": [
        {
          "output_type": "stream",
          "name": "stdout",
          "text": [
            "예측값(Y predict value)\n",
            " [12.49311066 13.20917716 13.32297167 13.17887545 12.43562189 12.49679195\n",
            " 12.4845266  12.71275909 12.43974528 12.78071403 12.42942132 12.59405059\n",
            " 13.00522154 12.48624986 12.51610012 12.52693772 12.50954736 12.39117635\n",
            " 13.21502638 13.36253452 12.4923556  13.26467897 12.44281021 13.35774215\n",
            " 12.44268449 13.25954374 12.47232149 13.1606443  12.55856573 13.29518146\n",
            " 12.52246159 12.40888389 13.34140781 12.98247891 12.57245103 12.41610805\n",
            " 12.75318204 12.8535653  12.45028844 12.56715849 12.49224561 12.41061686\n",
            " 12.67582472 12.39275117 12.61090531 13.41523785 12.58704834 12.58043407\n",
            " 12.40838748 13.34230567 12.48790312 12.35799377 12.35928012 12.3679385\n",
            " 12.4099622  12.37204255 13.28270741 12.49740268 12.44265454 13.43771993\n",
            " 13.31653514 12.74726322 12.92584885 12.44048756 12.33255639 13.34870045\n",
            " 13.28972714 12.48735465 12.34242117 12.48284318 13.37108239 12.40943327]\n",
            "lasso R2 : 0.607\n",
            "RMSE : 0.270\n",
            "lr R2 : 0.619\n",
            "ridge R2 : 0.618\n"
          ]
        }
      ]
    },
    {
      "cell_type": "code",
      "source": [
        "#엘라스틱 넷 => 다양한 방식을 통해 예측방법을 확대할 수 있다.\n",
        "from sklearn.linear_model import ElasticNet\n",
        "\n",
        "lr_ela = ElasticNet( alpha = 0.01). fit(X_train, Y_train)\n",
        "Y_pred = lr_ela.predict(X_test)\n",
        "\n",
        "print(\"예측값(Y predict value)\\n\", Y_pred)\n",
        "rmse = sqrt(mean_squared_error(Y_test, Y_pred))\n",
        "print(\"ela R2 : {:.3f}\". format(lr_ela.score(X_train, Y_train)))\n",
        "print(\"RMSE : {:.3f}\".format(rmse))\n",
        "\n",
        "#비교\n",
        "print(\"lr R2 : {:.3f}\". format(lr.score(X_train, Y_train)))\n",
        "print(\"ridge R2 : {:.3f}\". format(lr_ridge.score(X_train, Y_train)))\n",
        "print(\"lasso R2 : {:.3f}\". format(lr_lasso.score(X_train, Y_train)))"
      ],
      "metadata": {
        "colab": {
          "base_uri": "https://localhost:8080/"
        },
        "id": "5zHcqZ213dwe",
        "outputId": "1558e74d-2660-4557-fc5e-df77365a23f1"
      },
      "execution_count": 20,
      "outputs": [
        {
          "output_type": "stream",
          "name": "stdout",
          "text": [
            "예측값(Y predict value)\n",
            " [12.46492126 13.22240785 13.32136495 13.14510653 12.43525886 12.47361017\n",
            " 12.47271962 12.72748888 12.47041627 12.79837373 12.41067493 12.60899607\n",
            " 13.04928588 12.46435161 12.5102218  12.4966256  12.52636663 12.38258256\n",
            " 13.21584652 13.40018975 12.46463635 13.30174456 12.42019646 13.39186\n",
            " 12.41596126 13.25521863 12.50983713 13.17373781 12.53619834 13.31254424\n",
            " 12.52924373 12.36390371 13.34018582 13.0139516  12.5383641  12.39059988\n",
            " 12.72516848 12.83841637 12.4639708  12.59435812 12.46878738 12.3868198\n",
            " 12.63955351 12.38809284 12.63639887 13.46399058 12.60393946 12.57073394\n",
            " 12.38138699 13.38910143 12.45285859 12.34853996 12.36573803 12.36479143\n",
            " 12.37963859 12.37775046 13.29497234 12.45858459 12.43228718 13.44223098\n",
            " 13.35113338 12.71421417 12.92592765 12.42227786 12.29656012 13.40518632\n",
            " 13.26695594 12.45248776 12.30463588 12.45994728 13.39352833 12.3633868 ]\n",
            "ela R2 : 0.614\n",
            "RMSE : 0.276\n",
            "lr R2 : 0.619\n",
            "ridge R2 : 0.618\n",
            "lasso R2 : 0.607\n"
          ]
        }
      ]
    },
    {
      "cell_type": "code",
      "source": [
        "#knn최근접이웃\n",
        "#numeric value(Y)\n",
        "\n",
        "import numpy as np\n",
        "\n",
        "num = [ '총_할인_금액', '할인권_사용 횟수','고객_나이대', '상품_만족도', '매장_만족도', '서비스_만족도'] #스케일러 적용\n",
        "cg = ['클레임접수여부','성별','구매유형'] #카테고리컬(범주형) \n",
        "\n",
        "X = df[num+cg]\n",
        "Y = df['1회_평균매출액']\n",
        "\n",
        "X_train, X_test, Y_train, Y_test = train_test_split(X, Y, test_size=0.3, random_state=0)\n",
        "\n",
        "#표준화, 원핫인코딩\n",
        "ct = ColumnTransformer([('scling',StandardScaler(),num),('onehot',OneHotEncoder(sparse = False),cg)])\n",
        "ct.fit(X_train)\n",
        "X_train = ct.transform(X_train)\n",
        "X_test = ct.transform(X_test)\n",
        "\n",
        "#스케일러 적용\n",
        "scaler = StandardScaler(). fit(X_train, Y_train)\n",
        "X_test = scaler.transform(X_test)\n",
        "X_train = scaler.transform(X_train)\n",
        "\n",
        "from sklearn.neighbors import KNeighborsRegressor\n",
        "knn_reg = KNeighborsRegressor(n_neighbors =9, p=2)\n",
        "#p : int, default =2\n",
        "#Power parameter for the Minkowski metric. When p=1,\n",
        "#This is equivalent to using manhattan_distance(l1),and euclidean_distance(l2) for p = 2. For arbitrary p, minkowski_distance\n",
        "\n",
        "knn_reg.fit(X_train,Y_train)\n",
        "Y_pred = knn_reg.predict(X_test)\n",
        "print(\"accuracy :{:.3f}\".format(knn_reg.score(X_train, Y_train))) #모형의 Train으로 구한 정확도임(R2과 같음음)\n",
        "rmse = sqrt(mean_squared_error(Y_test, Y_pred))\n",
        "print(\"RMSE: {:.3f}\".format(rmse))"
      ],
      "metadata": {
        "colab": {
          "base_uri": "https://localhost:8080/"
        },
        "id": "Hy1n4KwI3hpH",
        "outputId": "065476d2-e7ee-4c40-99ea-df180d32416c"
      },
      "execution_count": 21,
      "outputs": [
        {
          "output_type": "stream",
          "name": "stdout",
          "text": [
            "accuracy :0.601\n",
            "RMSE: 0.326\n"
          ]
        },
        {
          "output_type": "stream",
          "name": "stderr",
          "text": [
            "/usr/local/lib/python3.9/dist-packages/sklearn/preprocessing/_encoders.py:868: FutureWarning: `sparse` was renamed to `sparse_output` in version 1.2 and will be removed in 1.4. `sparse_output` is ignored unless you leave `sparse` to its default value.\n",
            "  warnings.warn(\n"
          ]
        }
      ]
    },
    {
      "cell_type": "code",
      "source": [
        "#의사결정나무\n",
        "#numeric value(Y)\n",
        "\n",
        "import numpy as np\n",
        "num = [ '총_할인_금액', '할인권_사용 횟수','고객_나이대', '상품_만족도', '매장_만족도', '서비스_만족도'] #스케일러 적용\n",
        "cg = ['클레임접수여부','성별','구매유형'] #카테고리컬(범주형) \n",
        "\n",
        "X = df[num+cg]\n",
        "Y = df['1회_평균매출액']\n",
        "\n",
        "X_train, X_test, Y_train, Y_test = train_test_split(X, Y, test_size=0.3, random_state=0)\n",
        "\n",
        "#표준화, 원핫인코딩\n",
        "ct = ColumnTransformer([('scling',StandardScaler(),num),('onehot',OneHotEncoder(sparse = False),cg)])\n",
        "ct.fit(X_train)\n",
        "X_train = ct.transform(X_train)\n",
        "X_test = ct.transform(X_test)\n",
        "\n",
        "from sklearn.tree import DecisionTreeRegressor\n",
        "\n",
        "DT_model_reg = DecisionTreeRegressor(random_state=0,max_depth =5)\n",
        "DT_model_reg.fit(X_train, Y_train)\n",
        "Y_pred = DT_model_reg.predict(X_test)\n",
        "print(\"accuracy : {:.3f}\".format(DT_model_reg.score(X_train, Y_train)))\n",
        "rmse = sqrt(mean_squared_error(Y_test,Y_pred))\n",
        "print(\"rmse :{:.3f} \",format(rmse))"
      ],
      "metadata": {
        "colab": {
          "base_uri": "https://localhost:8080/"
        },
        "id": "fTCmBUkQCWt_",
        "outputId": "74618594-fd1e-4c25-91df-a2d2985ca5c3"
      },
      "execution_count": 82,
      "outputs": [
        {
          "output_type": "stream",
          "name": "stdout",
          "text": [
            "accuracy : 0.765\n",
            "rmse :{:.3f}  0.33277330470228667\n"
          ]
        },
        {
          "output_type": "stream",
          "name": "stderr",
          "text": [
            "/usr/local/lib/python3.9/dist-packages/sklearn/preprocessing/_encoders.py:868: FutureWarning: `sparse` was renamed to `sparse_output` in version 1.2 and will be removed in 1.4. `sparse_output` is ignored unless you leave `sparse` to its default value.\n",
            "  warnings.warn(\n"
          ]
        }
      ]
    },
    {
      "cell_type": "code",
      "source": [
        "feature_name = X.columns\n",
        "feature_importance = DT_model_reg.feature_importances_\n",
        "sorted(zip(feature_importance, feature_name),reverse=True)"
      ],
      "metadata": {
        "colab": {
          "base_uri": "https://localhost:8080/"
        },
        "id": "n0FBw_B-CeJb",
        "outputId": "0c0f4839-804e-46e3-8930-a26aa8d542f5"
      },
      "execution_count": 84,
      "outputs": [
        {
          "output_type": "execute_result",
          "data": {
            "text/plain": [
              "[(0.07586127854016436, '총_할인_금액'),\n",
              " (0.06549489741242909, '매장_만족도'),\n",
              " (0.03990608700816696, '서비스_만족도'),\n",
              " (0.026816166260660235, '고객_나이대'),\n",
              " (0.020980395527985616, '할인권_사용 횟수'),\n",
              " (0.01063052881987015, '상품_만족도'),\n",
              " (0.00017607983410530546, '클레임접수여부'),\n",
              " (0.0, '성별'),\n",
              " (0.0, '구매유형')]"
            ]
          },
          "metadata": {},
          "execution_count": 84
        }
      ]
    },
    {
      "cell_type": "code",
      "source": [
        "a = DT_model_reg.feature_importances_"
      ],
      "metadata": {
        "id": "M36xgih99w1M"
      },
      "execution_count": 79,
      "outputs": []
    },
    {
      "cell_type": "code",
      "source": [
        "b = pd.DataFrame(a)\n",
        "b"
      ],
      "metadata": {
        "colab": {
          "base_uri": "https://localhost:8080/",
          "height": 388
        },
        "id": "wAjLlY92-dJw",
        "outputId": "e480edc5-3793-4a0b-92ab-4e83eeaa0b3d"
      },
      "execution_count": 80,
      "outputs": [
        {
          "output_type": "execute_result",
          "data": {
            "text/plain": [
              "           0\n",
              "0   0.075861\n",
              "1   0.020980\n",
              "2   0.026816\n",
              "3   0.010631\n",
              "4   0.065495\n",
              "5   0.039906\n",
              "6   0.000176\n",
              "7   0.000000\n",
              "8   0.000000\n",
              "9   0.014585\n",
              "10  0.662625\n",
              "11  0.000000\n",
              "12  0.082925"
            ],
            "text/html": [
              "\n",
              "  <div id=\"df-48ae5777-52a4-40b6-b321-40624b72b6fe\">\n",
              "    <div class=\"colab-df-container\">\n",
              "      <div>\n",
              "<style scoped>\n",
              "    .dataframe tbody tr th:only-of-type {\n",
              "        vertical-align: middle;\n",
              "    }\n",
              "\n",
              "    .dataframe tbody tr th {\n",
              "        vertical-align: top;\n",
              "    }\n",
              "\n",
              "    .dataframe thead th {\n",
              "        text-align: right;\n",
              "    }\n",
              "</style>\n",
              "<table border=\"1\" class=\"dataframe\">\n",
              "  <thead>\n",
              "    <tr style=\"text-align: right;\">\n",
              "      <th></th>\n",
              "      <th>0</th>\n",
              "    </tr>\n",
              "  </thead>\n",
              "  <tbody>\n",
              "    <tr>\n",
              "      <th>0</th>\n",
              "      <td>0.075861</td>\n",
              "    </tr>\n",
              "    <tr>\n",
              "      <th>1</th>\n",
              "      <td>0.020980</td>\n",
              "    </tr>\n",
              "    <tr>\n",
              "      <th>2</th>\n",
              "      <td>0.026816</td>\n",
              "    </tr>\n",
              "    <tr>\n",
              "      <th>3</th>\n",
              "      <td>0.010631</td>\n",
              "    </tr>\n",
              "    <tr>\n",
              "      <th>4</th>\n",
              "      <td>0.065495</td>\n",
              "    </tr>\n",
              "    <tr>\n",
              "      <th>5</th>\n",
              "      <td>0.039906</td>\n",
              "    </tr>\n",
              "    <tr>\n",
              "      <th>6</th>\n",
              "      <td>0.000176</td>\n",
              "    </tr>\n",
              "    <tr>\n",
              "      <th>7</th>\n",
              "      <td>0.000000</td>\n",
              "    </tr>\n",
              "    <tr>\n",
              "      <th>8</th>\n",
              "      <td>0.000000</td>\n",
              "    </tr>\n",
              "    <tr>\n",
              "      <th>9</th>\n",
              "      <td>0.014585</td>\n",
              "    </tr>\n",
              "    <tr>\n",
              "      <th>10</th>\n",
              "      <td>0.662625</td>\n",
              "    </tr>\n",
              "    <tr>\n",
              "      <th>11</th>\n",
              "      <td>0.000000</td>\n",
              "    </tr>\n",
              "    <tr>\n",
              "      <th>12</th>\n",
              "      <td>0.082925</td>\n",
              "    </tr>\n",
              "  </tbody>\n",
              "</table>\n",
              "</div>\n",
              "      <button class=\"colab-df-convert\" onclick=\"convertToInteractive('df-48ae5777-52a4-40b6-b321-40624b72b6fe')\"\n",
              "              title=\"Convert this dataframe to an interactive table.\"\n",
              "              style=\"display:none;\">\n",
              "        \n",
              "  <svg xmlns=\"http://www.w3.org/2000/svg\" height=\"24px\"viewBox=\"0 0 24 24\"\n",
              "       width=\"24px\">\n",
              "    <path d=\"M0 0h24v24H0V0z\" fill=\"none\"/>\n",
              "    <path d=\"M18.56 5.44l.94 2.06.94-2.06 2.06-.94-2.06-.94-.94-2.06-.94 2.06-2.06.94zm-11 1L8.5 8.5l.94-2.06 2.06-.94-2.06-.94L8.5 2.5l-.94 2.06-2.06.94zm10 10l.94 2.06.94-2.06 2.06-.94-2.06-.94-.94-2.06-.94 2.06-2.06.94z\"/><path d=\"M17.41 7.96l-1.37-1.37c-.4-.4-.92-.59-1.43-.59-.52 0-1.04.2-1.43.59L10.3 9.45l-7.72 7.72c-.78.78-.78 2.05 0 2.83L4 21.41c.39.39.9.59 1.41.59.51 0 1.02-.2 1.41-.59l7.78-7.78 2.81-2.81c.8-.78.8-2.07 0-2.86zM5.41 20L4 18.59l7.72-7.72 1.47 1.35L5.41 20z\"/>\n",
              "  </svg>\n",
              "      </button>\n",
              "      \n",
              "  <style>\n",
              "    .colab-df-container {\n",
              "      display:flex;\n",
              "      flex-wrap:wrap;\n",
              "      gap: 12px;\n",
              "    }\n",
              "\n",
              "    .colab-df-convert {\n",
              "      background-color: #E8F0FE;\n",
              "      border: none;\n",
              "      border-radius: 50%;\n",
              "      cursor: pointer;\n",
              "      display: none;\n",
              "      fill: #1967D2;\n",
              "      height: 32px;\n",
              "      padding: 0 0 0 0;\n",
              "      width: 32px;\n",
              "    }\n",
              "\n",
              "    .colab-df-convert:hover {\n",
              "      background-color: #E2EBFA;\n",
              "      box-shadow: 0px 1px 2px rgba(60, 64, 67, 0.3), 0px 1px 3px 1px rgba(60, 64, 67, 0.15);\n",
              "      fill: #174EA6;\n",
              "    }\n",
              "\n",
              "    [theme=dark] .colab-df-convert {\n",
              "      background-color: #3B4455;\n",
              "      fill: #D2E3FC;\n",
              "    }\n",
              "\n",
              "    [theme=dark] .colab-df-convert:hover {\n",
              "      background-color: #434B5C;\n",
              "      box-shadow: 0px 1px 3px 1px rgba(0, 0, 0, 0.15);\n",
              "      filter: drop-shadow(0px 1px 2px rgba(0, 0, 0, 0.3));\n",
              "      fill: #FFFFFF;\n",
              "    }\n",
              "  </style>\n",
              "\n",
              "      <script>\n",
              "        const buttonEl =\n",
              "          document.querySelector('#df-48ae5777-52a4-40b6-b321-40624b72b6fe button.colab-df-convert');\n",
              "        buttonEl.style.display =\n",
              "          google.colab.kernel.accessAllowed ? 'block' : 'none';\n",
              "\n",
              "        async function convertToInteractive(key) {\n",
              "          const element = document.querySelector('#df-48ae5777-52a4-40b6-b321-40624b72b6fe');\n",
              "          const dataTable =\n",
              "            await google.colab.kernel.invokeFunction('convertToInteractive',\n",
              "                                                     [key], {});\n",
              "          if (!dataTable) return;\n",
              "\n",
              "          const docLinkHtml = 'Like what you see? Visit the ' +\n",
              "            '<a target=\"_blank\" href=https://colab.research.google.com/notebooks/data_table.ipynb>data table notebook</a>'\n",
              "            + ' to learn more about interactive tables.';\n",
              "          element.innerHTML = '';\n",
              "          dataTable['output_type'] = 'display_data';\n",
              "          await google.colab.output.renderOutput(dataTable, element);\n",
              "          const docLink = document.createElement('div');\n",
              "          docLink.innerHTML = docLinkHtml;\n",
              "          element.appendChild(docLink);\n",
              "        }\n",
              "      </script>\n",
              "    </div>\n",
              "  </div>\n",
              "  "
            ]
          },
          "metadata": {},
          "execution_count": 80
        }
      ]
    },
    {
      "cell_type": "code",
      "source": [
        "DT_model_reg.feature_importances_"
      ],
      "metadata": {
        "colab": {
          "base_uri": "https://localhost:8080/"
        },
        "id": "URiXz7Nw-Poq",
        "outputId": "cb5c7db7-1c98-4f80-b558-793c368c9b71"
      },
      "execution_count": 81,
      "outputs": [
        {
          "output_type": "execute_result",
          "data": {
            "text/plain": [
              "array([7.58612785e-02, 2.09803955e-02, 2.68161663e-02, 1.06305288e-02,\n",
              "       6.54948974e-02, 3.99060870e-02, 1.76079834e-04, 0.00000000e+00,\n",
              "       0.00000000e+00, 1.45845736e-02, 6.62624741e-01, 0.00000000e+00,\n",
              "       8.29252521e-02])"
            ]
          },
          "metadata": {},
          "execution_count": 81
        }
      ]
    },
    {
      "cell_type": "code",
      "source": [
        "# from sklearn.ensemble import RandomForestClassifier\n",
        "# from sklearn.datasets import make_classification\n",
        "\n",
        "# # 데이터 생성\n",
        "# X, y = make_classification(n_samples=1000, n_informative=5, n_redundant=0, random_state=42)\n",
        "\n",
        "# # 모델 학습\n",
        "# clf = RandomForestClassifier(n_estimators=100, random_state=42)\n",
        "# clf.fit(X, y)\n",
        "\n",
        "# # feature importance 출력\n",
        "# for i, imp in enumerate(clf.feature_importances_):\n",
        "#     print(\"Feature %d: %f\" % (i, imp))"
      ],
      "metadata": {
        "colab": {
          "base_uri": "https://localhost:8080/"
        },
        "id": "pXcwuwx843mo",
        "outputId": "671c7bf2-e137-4344-a84d-8c7ec8adc569"
      },
      "execution_count": 68,
      "outputs": [
        {
          "output_type": "stream",
          "name": "stdout",
          "text": [
            "Feature 0: 0.018752\n",
            "Feature 1: 0.019500\n",
            "Feature 2: 0.019302\n",
            "Feature 3: 0.015093\n",
            "Feature 4: 0.020715\n",
            "Feature 5: 0.019510\n",
            "Feature 6: 0.021079\n",
            "Feature 7: 0.065057\n",
            "Feature 8: 0.019072\n",
            "Feature 9: 0.133155\n",
            "Feature 10: 0.018859\n",
            "Feature 11: 0.022405\n",
            "Feature 12: 0.224574\n",
            "Feature 13: 0.018637\n",
            "Feature 14: 0.023029\n",
            "Feature 15: 0.020052\n",
            "Feature 16: 0.130696\n",
            "Feature 17: 0.018673\n",
            "Feature 18: 0.018473\n",
            "Feature 19: 0.153366\n"
          ]
        }
      ]
    },
    {
      "cell_type": "code",
      "source": [
        "clf.feature_importances_"
      ],
      "metadata": {
        "colab": {
          "base_uri": "https://localhost:8080/"
        },
        "id": "-9r5wVqO6dT6",
        "outputId": "7b801966-00f1-49d8-e797-1d4c6823b05f"
      },
      "execution_count": 54,
      "outputs": [
        {
          "output_type": "execute_result",
          "data": {
            "text/plain": [
              "array([0.06939197, 0.02805938, 0.17535455, 0.03351708, 0.25997872,\n",
              "       0.02983487, 0.03273085, 0.14703097, 0.19417306, 0.02992855])"
            ]
          },
          "metadata": {},
          "execution_count": 54
        }
      ]
    },
    {
      "cell_type": "code",
      "source": [
        "X"
      ],
      "metadata": {
        "colab": {
          "base_uri": "https://localhost:8080/",
          "height": 423
        },
        "id": "wmL06yMs9QFD",
        "outputId": "cf308af6-f37d-4c2c-93ce-97e36943a264"
      },
      "execution_count": 66,
      "outputs": [
        {
          "output_type": "execute_result",
          "data": {
            "text/plain": [
              "     총_할인_금액  할인권_사용 횟수  고객_나이대  상품_만족도  매장_만족도  서비스_만족도  클레임접수여부  성별  구매유형\n",
              "0     246350          9       6       5       6        6        0   0     2\n",
              "1     354735          4       4       6       7        7        1   1     2\n",
              "2     326795         15       3       3       4        5        0   1     3\n",
              "3       3750          1       4       4       6        7        0   0     3\n",
              "4     351745         22       7       6       5        6        0   1     2\n",
              "..       ...        ...     ...     ...     ...      ...      ...  ..   ...\n",
              "243   348145         20       6       4       5        4        0   1     3\n",
              "244   380395         23       6       6       6        5        0   1     3\n",
              "245   186545          6       6       5       5        7        0   0     2\n",
              "246   347700         20       6       4       6        5        0   1     3\n",
              "247     5195          1       6       3       5        5        1   1     4\n",
              "\n",
              "[239 rows x 9 columns]"
            ],
            "text/html": [
              "\n",
              "  <div id=\"df-6e74c687-61be-43ba-84cb-969bd852254b\">\n",
              "    <div class=\"colab-df-container\">\n",
              "      <div>\n",
              "<style scoped>\n",
              "    .dataframe tbody tr th:only-of-type {\n",
              "        vertical-align: middle;\n",
              "    }\n",
              "\n",
              "    .dataframe tbody tr th {\n",
              "        vertical-align: top;\n",
              "    }\n",
              "\n",
              "    .dataframe thead th {\n",
              "        text-align: right;\n",
              "    }\n",
              "</style>\n",
              "<table border=\"1\" class=\"dataframe\">\n",
              "  <thead>\n",
              "    <tr style=\"text-align: right;\">\n",
              "      <th></th>\n",
              "      <th>총_할인_금액</th>\n",
              "      <th>할인권_사용 횟수</th>\n",
              "      <th>고객_나이대</th>\n",
              "      <th>상품_만족도</th>\n",
              "      <th>매장_만족도</th>\n",
              "      <th>서비스_만족도</th>\n",
              "      <th>클레임접수여부</th>\n",
              "      <th>성별</th>\n",
              "      <th>구매유형</th>\n",
              "    </tr>\n",
              "  </thead>\n",
              "  <tbody>\n",
              "    <tr>\n",
              "      <th>0</th>\n",
              "      <td>246350</td>\n",
              "      <td>9</td>\n",
              "      <td>6</td>\n",
              "      <td>5</td>\n",
              "      <td>6</td>\n",
              "      <td>6</td>\n",
              "      <td>0</td>\n",
              "      <td>0</td>\n",
              "      <td>2</td>\n",
              "    </tr>\n",
              "    <tr>\n",
              "      <th>1</th>\n",
              "      <td>354735</td>\n",
              "      <td>4</td>\n",
              "      <td>4</td>\n",
              "      <td>6</td>\n",
              "      <td>7</td>\n",
              "      <td>7</td>\n",
              "      <td>1</td>\n",
              "      <td>1</td>\n",
              "      <td>2</td>\n",
              "    </tr>\n",
              "    <tr>\n",
              "      <th>2</th>\n",
              "      <td>326795</td>\n",
              "      <td>15</td>\n",
              "      <td>3</td>\n",
              "      <td>3</td>\n",
              "      <td>4</td>\n",
              "      <td>5</td>\n",
              "      <td>0</td>\n",
              "      <td>1</td>\n",
              "      <td>3</td>\n",
              "    </tr>\n",
              "    <tr>\n",
              "      <th>3</th>\n",
              "      <td>3750</td>\n",
              "      <td>1</td>\n",
              "      <td>4</td>\n",
              "      <td>4</td>\n",
              "      <td>6</td>\n",
              "      <td>7</td>\n",
              "      <td>0</td>\n",
              "      <td>0</td>\n",
              "      <td>3</td>\n",
              "    </tr>\n",
              "    <tr>\n",
              "      <th>4</th>\n",
              "      <td>351745</td>\n",
              "      <td>22</td>\n",
              "      <td>7</td>\n",
              "      <td>6</td>\n",
              "      <td>5</td>\n",
              "      <td>6</td>\n",
              "      <td>0</td>\n",
              "      <td>1</td>\n",
              "      <td>2</td>\n",
              "    </tr>\n",
              "    <tr>\n",
              "      <th>...</th>\n",
              "      <td>...</td>\n",
              "      <td>...</td>\n",
              "      <td>...</td>\n",
              "      <td>...</td>\n",
              "      <td>...</td>\n",
              "      <td>...</td>\n",
              "      <td>...</td>\n",
              "      <td>...</td>\n",
              "      <td>...</td>\n",
              "    </tr>\n",
              "    <tr>\n",
              "      <th>243</th>\n",
              "      <td>348145</td>\n",
              "      <td>20</td>\n",
              "      <td>6</td>\n",
              "      <td>4</td>\n",
              "      <td>5</td>\n",
              "      <td>4</td>\n",
              "      <td>0</td>\n",
              "      <td>1</td>\n",
              "      <td>3</td>\n",
              "    </tr>\n",
              "    <tr>\n",
              "      <th>244</th>\n",
              "      <td>380395</td>\n",
              "      <td>23</td>\n",
              "      <td>6</td>\n",
              "      <td>6</td>\n",
              "      <td>6</td>\n",
              "      <td>5</td>\n",
              "      <td>0</td>\n",
              "      <td>1</td>\n",
              "      <td>3</td>\n",
              "    </tr>\n",
              "    <tr>\n",
              "      <th>245</th>\n",
              "      <td>186545</td>\n",
              "      <td>6</td>\n",
              "      <td>6</td>\n",
              "      <td>5</td>\n",
              "      <td>5</td>\n",
              "      <td>7</td>\n",
              "      <td>0</td>\n",
              "      <td>0</td>\n",
              "      <td>2</td>\n",
              "    </tr>\n",
              "    <tr>\n",
              "      <th>246</th>\n",
              "      <td>347700</td>\n",
              "      <td>20</td>\n",
              "      <td>6</td>\n",
              "      <td>4</td>\n",
              "      <td>6</td>\n",
              "      <td>5</td>\n",
              "      <td>0</td>\n",
              "      <td>1</td>\n",
              "      <td>3</td>\n",
              "    </tr>\n",
              "    <tr>\n",
              "      <th>247</th>\n",
              "      <td>5195</td>\n",
              "      <td>1</td>\n",
              "      <td>6</td>\n",
              "      <td>3</td>\n",
              "      <td>5</td>\n",
              "      <td>5</td>\n",
              "      <td>1</td>\n",
              "      <td>1</td>\n",
              "      <td>4</td>\n",
              "    </tr>\n",
              "  </tbody>\n",
              "</table>\n",
              "<p>239 rows × 9 columns</p>\n",
              "</div>\n",
              "      <button class=\"colab-df-convert\" onclick=\"convertToInteractive('df-6e74c687-61be-43ba-84cb-969bd852254b')\"\n",
              "              title=\"Convert this dataframe to an interactive table.\"\n",
              "              style=\"display:none;\">\n",
              "        \n",
              "  <svg xmlns=\"http://www.w3.org/2000/svg\" height=\"24px\"viewBox=\"0 0 24 24\"\n",
              "       width=\"24px\">\n",
              "    <path d=\"M0 0h24v24H0V0z\" fill=\"none\"/>\n",
              "    <path d=\"M18.56 5.44l.94 2.06.94-2.06 2.06-.94-2.06-.94-.94-2.06-.94 2.06-2.06.94zm-11 1L8.5 8.5l.94-2.06 2.06-.94-2.06-.94L8.5 2.5l-.94 2.06-2.06.94zm10 10l.94 2.06.94-2.06 2.06-.94-2.06-.94-.94-2.06-.94 2.06-2.06.94z\"/><path d=\"M17.41 7.96l-1.37-1.37c-.4-.4-.92-.59-1.43-.59-.52 0-1.04.2-1.43.59L10.3 9.45l-7.72 7.72c-.78.78-.78 2.05 0 2.83L4 21.41c.39.39.9.59 1.41.59.51 0 1.02-.2 1.41-.59l7.78-7.78 2.81-2.81c.8-.78.8-2.07 0-2.86zM5.41 20L4 18.59l7.72-7.72 1.47 1.35L5.41 20z\"/>\n",
              "  </svg>\n",
              "      </button>\n",
              "      \n",
              "  <style>\n",
              "    .colab-df-container {\n",
              "      display:flex;\n",
              "      flex-wrap:wrap;\n",
              "      gap: 12px;\n",
              "    }\n",
              "\n",
              "    .colab-df-convert {\n",
              "      background-color: #E8F0FE;\n",
              "      border: none;\n",
              "      border-radius: 50%;\n",
              "      cursor: pointer;\n",
              "      display: none;\n",
              "      fill: #1967D2;\n",
              "      height: 32px;\n",
              "      padding: 0 0 0 0;\n",
              "      width: 32px;\n",
              "    }\n",
              "\n",
              "    .colab-df-convert:hover {\n",
              "      background-color: #E2EBFA;\n",
              "      box-shadow: 0px 1px 2px rgba(60, 64, 67, 0.3), 0px 1px 3px 1px rgba(60, 64, 67, 0.15);\n",
              "      fill: #174EA6;\n",
              "    }\n",
              "\n",
              "    [theme=dark] .colab-df-convert {\n",
              "      background-color: #3B4455;\n",
              "      fill: #D2E3FC;\n",
              "    }\n",
              "\n",
              "    [theme=dark] .colab-df-convert:hover {\n",
              "      background-color: #434B5C;\n",
              "      box-shadow: 0px 1px 3px 1px rgba(0, 0, 0, 0.15);\n",
              "      filter: drop-shadow(0px 1px 2px rgba(0, 0, 0, 0.3));\n",
              "      fill: #FFFFFF;\n",
              "    }\n",
              "  </style>\n",
              "\n",
              "      <script>\n",
              "        const buttonEl =\n",
              "          document.querySelector('#df-6e74c687-61be-43ba-84cb-969bd852254b button.colab-df-convert');\n",
              "        buttonEl.style.display =\n",
              "          google.colab.kernel.accessAllowed ? 'block' : 'none';\n",
              "\n",
              "        async function convertToInteractive(key) {\n",
              "          const element = document.querySelector('#df-6e74c687-61be-43ba-84cb-969bd852254b');\n",
              "          const dataTable =\n",
              "            await google.colab.kernel.invokeFunction('convertToInteractive',\n",
              "                                                     [key], {});\n",
              "          if (!dataTable) return;\n",
              "\n",
              "          const docLinkHtml = 'Like what you see? Visit the ' +\n",
              "            '<a target=\"_blank\" href=https://colab.research.google.com/notebooks/data_table.ipynb>data table notebook</a>'\n",
              "            + ' to learn more about interactive tables.';\n",
              "          element.innerHTML = '';\n",
              "          dataTable['output_type'] = 'display_data';\n",
              "          await google.colab.output.renderOutput(dataTable, element);\n",
              "          const docLink = document.createElement('div');\n",
              "          docLink.innerHTML = docLinkHtml;\n",
              "          element.appendChild(docLink);\n",
              "        }\n",
              "      </script>\n",
              "    </div>\n",
              "  </div>\n",
              "  "
            ]
          },
          "metadata": {},
          "execution_count": 66
        }
      ]
    },
    {
      "cell_type": "code",
      "source": [
        "X_train[1]"
      ],
      "metadata": {
        "colab": {
          "base_uri": "https://localhost:8080/"
        },
        "id": "KuD9jPKo67A6",
        "outputId": "8a041b42-0f6d-4f7a-b0e3-568ce67ffaaa"
      },
      "execution_count": 67,
      "outputs": [
        {
          "output_type": "execute_result",
          "data": {
            "text/plain": [
              "array([ 0.96175649,  0.82778463,  0.99256313, -0.76745921, -0.23771786,\n",
              "        0.06508084,  0.        ,  1.        ,  0.        ,  1.        ,\n",
              "        0.        ,  1.        ,  0.        ])"
            ]
          },
          "metadata": {},
          "execution_count": 67
        }
      ]
    },
    {
      "cell_type": "code",
      "source": [
        "df[num+cg]"
      ],
      "metadata": {
        "colab": {
          "base_uri": "https://localhost:8080/",
          "height": 423
        },
        "id": "xFbvfV1U7EG7",
        "outputId": "d3aa978e-d52b-499f-aa21-918b6f2c8b5f"
      },
      "execution_count": 49,
      "outputs": [
        {
          "output_type": "execute_result",
          "data": {
            "text/plain": [
              "     총_할인_금액  할인권_사용 횟수  고객_나이대  상품_만족도  매장_만족도  서비스_만족도  클레임접수여부  성별  구매유형\n",
              "0     246350          9       6       5       6        6        0   0     2\n",
              "1     354735          4       4       6       7        7        1   1     2\n",
              "2     326795         15       3       3       4        5        0   1     3\n",
              "3       3750          1       4       4       6        7        0   0     3\n",
              "4     351745         22       7       6       5        6        0   1     2\n",
              "..       ...        ...     ...     ...     ...      ...      ...  ..   ...\n",
              "243   348145         20       6       4       5        4        0   1     3\n",
              "244   380395         23       6       6       6        5        0   1     3\n",
              "245   186545          6       6       5       5        7        0   0     2\n",
              "246   347700         20       6       4       6        5        0   1     3\n",
              "247     5195          1       6       3       5        5        1   1     4\n",
              "\n",
              "[239 rows x 9 columns]"
            ],
            "text/html": [
              "\n",
              "  <div id=\"df-07f958d7-0611-4500-8d91-889787bce88e\">\n",
              "    <div class=\"colab-df-container\">\n",
              "      <div>\n",
              "<style scoped>\n",
              "    .dataframe tbody tr th:only-of-type {\n",
              "        vertical-align: middle;\n",
              "    }\n",
              "\n",
              "    .dataframe tbody tr th {\n",
              "        vertical-align: top;\n",
              "    }\n",
              "\n",
              "    .dataframe thead th {\n",
              "        text-align: right;\n",
              "    }\n",
              "</style>\n",
              "<table border=\"1\" class=\"dataframe\">\n",
              "  <thead>\n",
              "    <tr style=\"text-align: right;\">\n",
              "      <th></th>\n",
              "      <th>총_할인_금액</th>\n",
              "      <th>할인권_사용 횟수</th>\n",
              "      <th>고객_나이대</th>\n",
              "      <th>상품_만족도</th>\n",
              "      <th>매장_만족도</th>\n",
              "      <th>서비스_만족도</th>\n",
              "      <th>클레임접수여부</th>\n",
              "      <th>성별</th>\n",
              "      <th>구매유형</th>\n",
              "    </tr>\n",
              "  </thead>\n",
              "  <tbody>\n",
              "    <tr>\n",
              "      <th>0</th>\n",
              "      <td>246350</td>\n",
              "      <td>9</td>\n",
              "      <td>6</td>\n",
              "      <td>5</td>\n",
              "      <td>6</td>\n",
              "      <td>6</td>\n",
              "      <td>0</td>\n",
              "      <td>0</td>\n",
              "      <td>2</td>\n",
              "    </tr>\n",
              "    <tr>\n",
              "      <th>1</th>\n",
              "      <td>354735</td>\n",
              "      <td>4</td>\n",
              "      <td>4</td>\n",
              "      <td>6</td>\n",
              "      <td>7</td>\n",
              "      <td>7</td>\n",
              "      <td>1</td>\n",
              "      <td>1</td>\n",
              "      <td>2</td>\n",
              "    </tr>\n",
              "    <tr>\n",
              "      <th>2</th>\n",
              "      <td>326795</td>\n",
              "      <td>15</td>\n",
              "      <td>3</td>\n",
              "      <td>3</td>\n",
              "      <td>4</td>\n",
              "      <td>5</td>\n",
              "      <td>0</td>\n",
              "      <td>1</td>\n",
              "      <td>3</td>\n",
              "    </tr>\n",
              "    <tr>\n",
              "      <th>3</th>\n",
              "      <td>3750</td>\n",
              "      <td>1</td>\n",
              "      <td>4</td>\n",
              "      <td>4</td>\n",
              "      <td>6</td>\n",
              "      <td>7</td>\n",
              "      <td>0</td>\n",
              "      <td>0</td>\n",
              "      <td>3</td>\n",
              "    </tr>\n",
              "    <tr>\n",
              "      <th>4</th>\n",
              "      <td>351745</td>\n",
              "      <td>22</td>\n",
              "      <td>7</td>\n",
              "      <td>6</td>\n",
              "      <td>5</td>\n",
              "      <td>6</td>\n",
              "      <td>0</td>\n",
              "      <td>1</td>\n",
              "      <td>2</td>\n",
              "    </tr>\n",
              "    <tr>\n",
              "      <th>...</th>\n",
              "      <td>...</td>\n",
              "      <td>...</td>\n",
              "      <td>...</td>\n",
              "      <td>...</td>\n",
              "      <td>...</td>\n",
              "      <td>...</td>\n",
              "      <td>...</td>\n",
              "      <td>...</td>\n",
              "      <td>...</td>\n",
              "    </tr>\n",
              "    <tr>\n",
              "      <th>243</th>\n",
              "      <td>348145</td>\n",
              "      <td>20</td>\n",
              "      <td>6</td>\n",
              "      <td>4</td>\n",
              "      <td>5</td>\n",
              "      <td>4</td>\n",
              "      <td>0</td>\n",
              "      <td>1</td>\n",
              "      <td>3</td>\n",
              "    </tr>\n",
              "    <tr>\n",
              "      <th>244</th>\n",
              "      <td>380395</td>\n",
              "      <td>23</td>\n",
              "      <td>6</td>\n",
              "      <td>6</td>\n",
              "      <td>6</td>\n",
              "      <td>5</td>\n",
              "      <td>0</td>\n",
              "      <td>1</td>\n",
              "      <td>3</td>\n",
              "    </tr>\n",
              "    <tr>\n",
              "      <th>245</th>\n",
              "      <td>186545</td>\n",
              "      <td>6</td>\n",
              "      <td>6</td>\n",
              "      <td>5</td>\n",
              "      <td>5</td>\n",
              "      <td>7</td>\n",
              "      <td>0</td>\n",
              "      <td>0</td>\n",
              "      <td>2</td>\n",
              "    </tr>\n",
              "    <tr>\n",
              "      <th>246</th>\n",
              "      <td>347700</td>\n",
              "      <td>20</td>\n",
              "      <td>6</td>\n",
              "      <td>4</td>\n",
              "      <td>6</td>\n",
              "      <td>5</td>\n",
              "      <td>0</td>\n",
              "      <td>1</td>\n",
              "      <td>3</td>\n",
              "    </tr>\n",
              "    <tr>\n",
              "      <th>247</th>\n",
              "      <td>5195</td>\n",
              "      <td>1</td>\n",
              "      <td>6</td>\n",
              "      <td>3</td>\n",
              "      <td>5</td>\n",
              "      <td>5</td>\n",
              "      <td>1</td>\n",
              "      <td>1</td>\n",
              "      <td>4</td>\n",
              "    </tr>\n",
              "  </tbody>\n",
              "</table>\n",
              "<p>239 rows × 9 columns</p>\n",
              "</div>\n",
              "      <button class=\"colab-df-convert\" onclick=\"convertToInteractive('df-07f958d7-0611-4500-8d91-889787bce88e')\"\n",
              "              title=\"Convert this dataframe to an interactive table.\"\n",
              "              style=\"display:none;\">\n",
              "        \n",
              "  <svg xmlns=\"http://www.w3.org/2000/svg\" height=\"24px\"viewBox=\"0 0 24 24\"\n",
              "       width=\"24px\">\n",
              "    <path d=\"M0 0h24v24H0V0z\" fill=\"none\"/>\n",
              "    <path d=\"M18.56 5.44l.94 2.06.94-2.06 2.06-.94-2.06-.94-.94-2.06-.94 2.06-2.06.94zm-11 1L8.5 8.5l.94-2.06 2.06-.94-2.06-.94L8.5 2.5l-.94 2.06-2.06.94zm10 10l.94 2.06.94-2.06 2.06-.94-2.06-.94-.94-2.06-.94 2.06-2.06.94z\"/><path d=\"M17.41 7.96l-1.37-1.37c-.4-.4-.92-.59-1.43-.59-.52 0-1.04.2-1.43.59L10.3 9.45l-7.72 7.72c-.78.78-.78 2.05 0 2.83L4 21.41c.39.39.9.59 1.41.59.51 0 1.02-.2 1.41-.59l7.78-7.78 2.81-2.81c.8-.78.8-2.07 0-2.86zM5.41 20L4 18.59l7.72-7.72 1.47 1.35L5.41 20z\"/>\n",
              "  </svg>\n",
              "      </button>\n",
              "      \n",
              "  <style>\n",
              "    .colab-df-container {\n",
              "      display:flex;\n",
              "      flex-wrap:wrap;\n",
              "      gap: 12px;\n",
              "    }\n",
              "\n",
              "    .colab-df-convert {\n",
              "      background-color: #E8F0FE;\n",
              "      border: none;\n",
              "      border-radius: 50%;\n",
              "      cursor: pointer;\n",
              "      display: none;\n",
              "      fill: #1967D2;\n",
              "      height: 32px;\n",
              "      padding: 0 0 0 0;\n",
              "      width: 32px;\n",
              "    }\n",
              "\n",
              "    .colab-df-convert:hover {\n",
              "      background-color: #E2EBFA;\n",
              "      box-shadow: 0px 1px 2px rgba(60, 64, 67, 0.3), 0px 1px 3px 1px rgba(60, 64, 67, 0.15);\n",
              "      fill: #174EA6;\n",
              "    }\n",
              "\n",
              "    [theme=dark] .colab-df-convert {\n",
              "      background-color: #3B4455;\n",
              "      fill: #D2E3FC;\n",
              "    }\n",
              "\n",
              "    [theme=dark] .colab-df-convert:hover {\n",
              "      background-color: #434B5C;\n",
              "      box-shadow: 0px 1px 3px 1px rgba(0, 0, 0, 0.15);\n",
              "      filter: drop-shadow(0px 1px 2px rgba(0, 0, 0, 0.3));\n",
              "      fill: #FFFFFF;\n",
              "    }\n",
              "  </style>\n",
              "\n",
              "      <script>\n",
              "        const buttonEl =\n",
              "          document.querySelector('#df-07f958d7-0611-4500-8d91-889787bce88e button.colab-df-convert');\n",
              "        buttonEl.style.display =\n",
              "          google.colab.kernel.accessAllowed ? 'block' : 'none';\n",
              "\n",
              "        async function convertToInteractive(key) {\n",
              "          const element = document.querySelector('#df-07f958d7-0611-4500-8d91-889787bce88e');\n",
              "          const dataTable =\n",
              "            await google.colab.kernel.invokeFunction('convertToInteractive',\n",
              "                                                     [key], {});\n",
              "          if (!dataTable) return;\n",
              "\n",
              "          const docLinkHtml = 'Like what you see? Visit the ' +\n",
              "            '<a target=\"_blank\" href=https://colab.research.google.com/notebooks/data_table.ipynb>data table notebook</a>'\n",
              "            + ' to learn more about interactive tables.';\n",
              "          element.innerHTML = '';\n",
              "          dataTable['output_type'] = 'display_data';\n",
              "          await google.colab.output.renderOutput(dataTable, element);\n",
              "          const docLink = document.createElement('div');\n",
              "          docLink.innerHTML = docLinkHtml;\n",
              "          element.appendChild(docLink);\n",
              "        }\n",
              "      </script>\n",
              "    </div>\n",
              "  </div>\n",
              "  "
            ]
          },
          "metadata": {},
          "execution_count": 49
        }
      ]
    },
    {
      "cell_type": "code",
      "source": [
        "X"
      ],
      "metadata": {
        "colab": {
          "base_uri": "https://localhost:8080/"
        },
        "id": "qINzJFrH8_Ym",
        "outputId": "6f1aa4c5-55b7-4712-89b1-35c932ec5d15"
      },
      "execution_count": 55,
      "outputs": [
        {
          "output_type": "execute_result",
          "data": {
            "text/plain": [
              "array([[ 3.86239664, -0.53555708, -0.01563761, ..., -0.33032079,\n",
              "         3.25494185,  1.42375408],\n",
              "       [-2.75566887,  0.81133032, -3.80487368, ..., -2.12421181,\n",
              "        -1.9777969 ,  0.55165227],\n",
              "       [ 1.37952235,  0.86515655,  2.43884712, ...,  1.18589537,\n",
              "         0.81238553,  1.29054823],\n",
              "       ...,\n",
              "       [ 1.33017686,  0.08528407,  2.77181538, ..., -1.33552426,\n",
              "         0.72486005,  1.73966525],\n",
              "       [-1.19160029,  0.37709022,  1.58535027, ..., -2.02342646,\n",
              "        -0.02961941, -1.07821817],\n",
              "       [ 1.46458697,  0.39844805,  2.07032359, ...,  0.59166715,\n",
              "         0.43877996,  0.30288328]])"
            ]
          },
          "metadata": {},
          "execution_count": 55
        }
      ]
    },
    {
      "cell_type": "code",
      "source": [
        "num+cg"
      ],
      "metadata": {
        "colab": {
          "base_uri": "https://localhost:8080/"
        },
        "id": "ynMCQrBJ6sb3",
        "outputId": "840d8dfa-f722-4927-e052-465b980df50d"
      },
      "execution_count": 39,
      "outputs": [
        {
          "output_type": "execute_result",
          "data": {
            "text/plain": [
              "['총_할인_금액',\n",
              " '할인권_사용 횟수',\n",
              " '고객_나이대',\n",
              " '상품_만족도',\n",
              " '매장_만족도',\n",
              " '서비스_만족도',\n",
              " '클레임접수여부',\n",
              " '성별',\n",
              " '구매유형']"
            ]
          },
          "metadata": {},
          "execution_count": 39
        }
      ]
    },
    {
      "cell_type": "code",
      "source": [
        "df[\"구매유형\"].unique()"
      ],
      "metadata": {
        "colab": {
          "base_uri": "https://localhost:8080/"
        },
        "id": "KXLvEqAL6HUL",
        "outputId": "04c0b60e-f453-43fc-e791-10e551baee69"
      },
      "execution_count": 41,
      "outputs": [
        {
          "output_type": "execute_result",
          "data": {
            "text/plain": [
              "array([2, 3, 4])"
            ]
          },
          "metadata": {},
          "execution_count": 41
        }
      ]
    },
    {
      "cell_type": "code",
      "source": [
        "#인공신경망\n",
        "\n",
        "#numeric value(Y)\n",
        "\n",
        "import numpy as np\n",
        "\n",
        "num = [ '총_할인_금액', '할인권_사용 횟수','고객_나이대', '상품_만족도', '매장_만족도', '서비스_만족도'] #스케일러 적용\n",
        "cg = ['클레임접수여부','성별','구매유형'] #카테고리컬(범주형) \n",
        "\n",
        "X = df[num+cg]\n",
        "Y = df['1회_평균매출액']\n",
        "\n",
        "X_train, X_test, Y_train, Y_test = train_test_split(X, Y, test_size=0.3, random_state=0)\n",
        "\n",
        "#표준화, 원핫인코딩\n",
        "ct = ColumnTransformer([('scling',StandardScaler(),num),('onehot',OneHotEncoder(sparse = False),cg)])\n",
        "ct.fit(X_train)\n",
        "X_train = ct.transform(X_train)\n",
        "X_test = ct.transform(X_test)\n",
        "\n",
        "#4. 모델링\n",
        "from sklearn.neural_network import MLPRegressor\n",
        "\n",
        "#4-1. 모델 생성\n",
        "nn_reg_model = MLPRegressor(random_state = 0,alpha=0.001, max_iter = 2000, hidden_layer_sizes=[50,50])\n",
        "\n",
        "#5. 모형학습 및 예측\n",
        "nn_reg_model.fit(X_train, Y_train)\n",
        "Y_pred = nn_reg_model.predict(X_test)\n",
        "\n",
        "#6. 결과값 보고\n",
        "print(\"Y predict value :\\n\", Y_pred)\n",
        "print(\"train accuracy : {:.3f}\".format(nn_reg_model.score(X_train, Y_train)))\n",
        "from sklearn.metrics import mean_squared_error\n",
        "from math import sqrt\n",
        "rmse = sqrt(mean_squared_error(Y_test, Y_pred))\n",
        "print(\"accuracy : {:.3f}\".format(nn_reg_model.score(X_train, Y_train)))\n",
        "print(\"RMSE : {:.3f}\". format(rmse))"
      ],
      "metadata": {
        "colab": {
          "base_uri": "https://localhost:8080/"
        },
        "id": "mkCGaKIv4h04",
        "outputId": "5ff1e2f2-dfdd-41cc-ff52-7b26d5388d1d"
      },
      "execution_count": 23,
      "outputs": [
        {
          "output_type": "stream",
          "name": "stderr",
          "text": [
            "/usr/local/lib/python3.9/dist-packages/sklearn/preprocessing/_encoders.py:868: FutureWarning: `sparse` was renamed to `sparse_output` in version 1.2 and will be removed in 1.4. `sparse_output` is ignored unless you leave `sparse` to its default value.\n",
            "  warnings.warn(\n"
          ]
        },
        {
          "output_type": "stream",
          "name": "stdout",
          "text": [
            "Y predict value :\n",
            " [11.88218475 13.2078855  14.33150019 13.10451463 12.23866183 12.02707072\n",
            " 13.20639393 13.42489563 13.30109588 13.32137779 12.15276193 12.29518412\n",
            " 13.57949604 11.90845695 13.23167788 12.37311289 12.56714109 12.43680867\n",
            " 13.38955523 13.67970977 12.96482943 12.82987512 12.29042988 13.58203589\n",
            " 12.50771502 13.20498608 12.57179716 13.23627379 13.29875463 12.54871579\n",
            " 11.99756289 11.88727634 13.07558075 12.26807455 12.394149   12.0875396\n",
            " 12.19645536 12.4349536  12.45140539 12.30126895 12.55574026 11.81510501\n",
            " 12.78333903 12.3348307  12.21506122 13.93912651 12.96598112 12.68451777\n",
            " 12.49696288 14.83105465 11.60284316 12.04802614 13.11455909 12.01936749\n",
            " 12.74197516 12.17690344 12.7992495  12.20794835 12.45529875 13.76744078\n",
            " 13.04099955 13.28509444 13.68752137 12.56858024 12.48165084 16.63295237\n",
            " 13.74721679 12.29760021 12.33685973 12.86957048 13.04143485 12.25670969]\n",
            "train accuracy : 0.600\n",
            "accuracy : 0.600\n",
            "RMSE : 0.611\n"
          ]
        }
      ]
    },
    {
      "cell_type": "code",
      "source": [],
      "metadata": {
        "id": "HyJ-yBUN4nay"
      },
      "execution_count": null,
      "outputs": []
    }
  ]
}