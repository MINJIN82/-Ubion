{
  "nbformat": 4,
  "nbformat_minor": 0,
  "metadata": {
    "colab": {
      "provenance": [],
      "include_colab_link": true
    },
    "kernelspec": {
      "name": "python3",
      "display_name": "Python 3"
    },
    "language_info": {
      "name": "python"
    }
  },
  "cells": [
    {
      "cell_type": "markdown",
      "metadata": {
        "id": "view-in-github",
        "colab_type": "text"
      },
      "source": [
        "<a href=\"https://colab.research.google.com/github/MINJIN82/-Ubion/blob/main/type2_3rd(blank)_ipynb%EC%9D%98_%EC%82%AC%EB%B3%B8.ipynb\" target=\"_parent\"><img src=\"https://colab.research.google.com/assets/colab-badge.svg\" alt=\"Open In Colab\"/></a>"
      ]
    },
    {
      "cell_type": "markdown",
      "source": [
        "# 작업형2\n",
        "- 빅데이터 분석기사 3회 실기\n",
        "- 제공된 데이터\n",
        "    - train.csv\n",
        "    - test.csv\n",
        "- 예측할 컬럼 : TravelInsurance\n",
        "\n",
        "### 시험에서 제공된 코드\n",
        "~~~\n",
        "import pandas as pd\n",
        "a = pd.read_csv(\"train.csv\")\n",
        "b = pd.read_csv('test.csv')\n",
        "\n",
        "pd.DataFrame(변수).to_csv('000000000.csv')\n",
        "~~~\n",
        "\n",
        "\n",
        "### 보험가입 확률을 묻는 문제\n",
        "~~~\n",
        "# csv 형태\n",
        "# index,y_pred\n",
        "# 0,0.152467\n",
        "# 1,0.961511\n",
        "# 2,0.151313\n",
        "# 3,0.236632\n",
        "...\n",
        "# 494,0.121372\n",
        "# 495,0.965155\n",
        "# 496,0.986405\n",
        "\n",
        "~~~\n"
      ],
      "metadata": {
        "id": "yOX8hBk5gKrW"
      }
    },
    {
      "cell_type": "markdown",
      "source": [
        "## 데이터 불러오기"
      ],
      "metadata": {
        "id": "R9ZoHIuwayfL"
      }
    },
    {
      "cell_type": "code",
      "source": [
        "import pandas as pd\n",
        "train = pd.read_csv(\"train.csv\")\n",
        "test = pd.read_csv(\"test.csv\")"
      ],
      "metadata": {
        "id": "aLTgo8rZYtxs"
      },
      "execution_count": 2,
      "outputs": []
    },
    {
      "cell_type": "markdown",
      "source": [
        "## EDA"
      ],
      "metadata": {
        "id": "-dVefrwPjPFJ"
      }
    },
    {
      "cell_type": "code",
      "source": [
        "# 크기 확인\n",
        "train.shape, test.shape"
      ],
      "metadata": {
        "id": "PWyD54YKgo2W",
        "colab": {
          "base_uri": "https://localhost:8080/"
        },
        "outputId": "1d3919da-cbb6-41e0-c366-f497cb5fdbb1"
      },
      "execution_count": 3,
      "outputs": [
        {
          "output_type": "execute_result",
          "data": {
            "text/plain": [
              "((1490, 10), (497, 9))"
            ]
          },
          "metadata": {},
          "execution_count": 3
        }
      ]
    },
    {
      "cell_type": "code",
      "source": [
        "# 샘플 확인\n",
        "print(train.head(), test.head())"
      ],
      "metadata": {
        "id": "e8nOHgTbULpH",
        "colab": {
          "base_uri": "https://localhost:8080/"
        },
        "outputId": "5f78e91e-3966-4de8-ad49-3b371e2ff54e"
      },
      "execution_count": 5,
      "outputs": [
        {
          "output_type": "stream",
          "name": "stdout",
          "text": [
            "   Unnamed: 0  Age               Employment Type GraduateOrNot  AnnualIncome  \\\n",
            "0         888   28  Private Sector/Self Employed           Yes       1250000   \n",
            "1        1308   31  Private Sector/Self Employed           Yes       1250000   \n",
            "2         151   29  Private Sector/Self Employed           Yes       1200000   \n",
            "3         396   33             Government Sector           Yes        650000   \n",
            "4         135   28  Private Sector/Self Employed           Yes        800000   \n",
            "\n",
            "   FamilyMembers  ChronicDiseases FrequentFlyer EverTravelledAbroad  \\\n",
            "0              6                1            No                  No   \n",
            "1              7                1            No                  No   \n",
            "2              7                0            No                  No   \n",
            "3              6                1            No                  No   \n",
            "4              6                0            No                 Yes   \n",
            "\n",
            "   TravelInsurance  \n",
            "0                0  \n",
            "1                0  \n",
            "2                1  \n",
            "3                1  \n",
            "4                1      Unnamed: 0  Age               Employment Type GraduateOrNot  AnnualIncome  \\\n",
            "0         920   32             Government Sector           Yes        650000   \n",
            "1         777   27             Government Sector           Yes        500000   \n",
            "2         696   32             Government Sector           Yes        350000   \n",
            "3         907   26  Private Sector/Self Employed           Yes       1400000   \n",
            "4         675   27  Private Sector/Self Employed            No        350000   \n",
            "\n",
            "   FamilyMembers  ChronicDiseases FrequentFlyer EverTravelledAbroad  \n",
            "0              5                0            No                  No  \n",
            "1              5                0            No                  No  \n",
            "2              2                0            No                  No  \n",
            "3              6                0            No                 Yes  \n",
            "4              3                0            No                  No  \n"
          ]
        }
      ]
    },
    {
      "cell_type": "code",
      "source": [
        "# 타입 확인\n",
        "train.info()"
      ],
      "metadata": {
        "id": "_ds65WrHhuL0",
        "colab": {
          "base_uri": "https://localhost:8080/"
        },
        "outputId": "8fed6bd4-c458-4c08-c3b1-63bf3d0d86e3"
      },
      "execution_count": 6,
      "outputs": [
        {
          "output_type": "stream",
          "name": "stdout",
          "text": [
            "<class 'pandas.core.frame.DataFrame'>\n",
            "RangeIndex: 1490 entries, 0 to 1489\n",
            "Data columns (total 10 columns):\n",
            " #   Column               Non-Null Count  Dtype \n",
            "---  ------               --------------  ----- \n",
            " 0   Unnamed: 0           1490 non-null   int64 \n",
            " 1   Age                  1490 non-null   int64 \n",
            " 2   Employment Type      1490 non-null   object\n",
            " 3   GraduateOrNot        1490 non-null   object\n",
            " 4   AnnualIncome         1490 non-null   int64 \n",
            " 5   FamilyMembers        1490 non-null   int64 \n",
            " 6   ChronicDiseases      1490 non-null   int64 \n",
            " 7   FrequentFlyer        1490 non-null   object\n",
            " 8   EverTravelledAbroad  1490 non-null   object\n",
            " 9   TravelInsurance      1490 non-null   int64 \n",
            "dtypes: int64(6), object(4)\n",
            "memory usage: 116.5+ KB\n"
          ]
        }
      ]
    },
    {
      "cell_type": "code",
      "source": [
        "# 결측치 확인 train\n",
        "print(train.isnull().sum())"
      ],
      "metadata": {
        "id": "A1b58WRMhwcv",
        "colab": {
          "base_uri": "https://localhost:8080/"
        },
        "outputId": "1dec5686-a18a-43f5-e6ac-ed3bc4ee5bb7"
      },
      "execution_count": 7,
      "outputs": [
        {
          "output_type": "stream",
          "name": "stdout",
          "text": [
            "Unnamed: 0             0\n",
            "Age                    0\n",
            "Employment Type        0\n",
            "GraduateOrNot          0\n",
            "AnnualIncome           0\n",
            "FamilyMembers          0\n",
            "ChronicDiseases        0\n",
            "FrequentFlyer          0\n",
            "EverTravelledAbroad    0\n",
            "TravelInsurance        0\n",
            "dtype: int64\n"
          ]
        }
      ]
    },
    {
      "cell_type": "code",
      "source": [
        "# 결측치 확인 test\n",
        "print(test.isnull().sum())"
      ],
      "metadata": {
        "id": "AqBK3RjVjdML",
        "colab": {
          "base_uri": "https://localhost:8080/"
        },
        "outputId": "2a190e51-e5a1-4d0e-de90-c5d789caa391"
      },
      "execution_count": 8,
      "outputs": [
        {
          "output_type": "stream",
          "name": "stdout",
          "text": [
            "Unnamed: 0             0\n",
            "Age                    0\n",
            "Employment Type        0\n",
            "GraduateOrNot          0\n",
            "AnnualIncome           0\n",
            "FamilyMembers          0\n",
            "ChronicDiseases        0\n",
            "FrequentFlyer          0\n",
            "EverTravelledAbroad    0\n",
            "dtype: int64\n"
          ]
        }
      ]
    },
    {
      "cell_type": "code",
      "source": [
        "# 기초 통계 획인\n",
        "print(train.describe(),test.describe())"
      ],
      "metadata": {
        "id": "f_NXrYdojgAa",
        "colab": {
          "base_uri": "https://localhost:8080/"
        },
        "outputId": "b02ec4e8-df6d-4243-86ab-4ddeee86d2bf"
      },
      "execution_count": 9,
      "outputs": [
        {
          "output_type": "stream",
          "name": "stdout",
          "text": [
            "        Unnamed: 0          Age  AnnualIncome  FamilyMembers  ChronicDiseases  \\\n",
            "count  1490.000000  1490.000000  1.490000e+03    1490.000000      1490.000000   \n",
            "mean    992.277181    29.600000  9.310738e+05       4.755705         0.280537   \n",
            "std     566.637006     2.887829  3.763057e+05       1.603613         0.449412   \n",
            "min       0.000000    25.000000  3.000000e+05       2.000000         0.000000   \n",
            "25%     502.250000    28.000000  6.000000e+05       4.000000         0.000000   \n",
            "50%     994.500000    29.000000  9.000000e+05       5.000000         0.000000   \n",
            "75%    1479.750000    32.000000  1.250000e+06       6.000000         1.000000   \n",
            "max    1983.000000    35.000000  1.800000e+06       9.000000         1.000000   \n",
            "\n",
            "       TravelInsurance  \n",
            "count      1490.000000  \n",
            "mean          0.352349  \n",
            "std           0.477862  \n",
            "min           0.000000  \n",
            "25%           0.000000  \n",
            "50%           0.000000  \n",
            "75%           1.000000  \n",
            "max           1.000000           Unnamed: 0         Age  AnnualIncome  FamilyMembers  ChronicDiseases\n",
            "count   497.000000  497.000000  4.970000e+02     497.000000       497.000000\n",
            "mean    995.167002   29.800805  9.378270e+05       4.744467         0.269618\n",
            "std     595.113355    2.986286  3.788348e+05       1.629211         0.444208\n",
            "min       5.000000   25.000000  3.000000e+05       2.000000         0.000000\n",
            "25%     468.000000   28.000000  6.000000e+05       4.000000         0.000000\n",
            "50%     986.000000   29.000000  9.000000e+05       5.000000         0.000000\n",
            "75%    1550.000000   33.000000  1.250000e+06       6.000000         1.000000\n",
            "max    1986.000000   35.000000  1.750000e+06       9.000000         1.000000\n"
          ]
        }
      ]
    },
    {
      "cell_type": "code",
      "source": [
        "# 기초 통계 획인 object\n",
        "print(train.describe(include = \"O\"))\n",
        "print(test.describe(include = \"O\"))"
      ],
      "metadata": {
        "id": "MHCAKNAEjqGq",
        "colab": {
          "base_uri": "https://localhost:8080/"
        },
        "outputId": "21a459d8-039e-4341-a10d-cb5694282d4e"
      },
      "execution_count": 10,
      "outputs": [
        {
          "output_type": "stream",
          "name": "stdout",
          "text": [
            "                     Employment Type GraduateOrNot FrequentFlyer  \\\n",
            "count                           1490          1490          1490   \n",
            "unique                             2             2             2   \n",
            "top     Private Sector/Self Employed           Yes            No   \n",
            "freq                            1056          1270          1175   \n",
            "\n",
            "       EverTravelledAbroad  \n",
            "count                 1490  \n",
            "unique                   2  \n",
            "top                     No  \n",
            "freq                  1209  \n",
            "                     Employment Type GraduateOrNot FrequentFlyer  \\\n",
            "count                            497           497           497   \n",
            "unique                             2             2             2   \n",
            "top     Private Sector/Self Employed           Yes            No   \n",
            "freq                             361           422           395   \n",
            "\n",
            "       EverTravelledAbroad  \n",
            "count                  497  \n",
            "unique                   2  \n",
            "top                     No  \n",
            "freq                   398  \n"
          ]
        }
      ]
    },
    {
      "cell_type": "code",
      "source": [
        "# 타겟(레이블)\n",
        "train['TravelInsurance'].value_counts()"
      ],
      "metadata": {
        "id": "2kppEcMPjVAE",
        "colab": {
          "base_uri": "https://localhost:8080/"
        },
        "outputId": "69c84f3f-90f7-4cd6-e411-ffa86f373765"
      },
      "execution_count": 11,
      "outputs": [
        {
          "output_type": "execute_result",
          "data": {
            "text/plain": [
              "0    965\n",
              "1    525\n",
              "Name: TravelInsurance, dtype: int64"
            ]
          },
          "metadata": {},
          "execution_count": 11
        }
      ]
    },
    {
      "cell_type": "markdown",
      "source": [
        "## 데이터 전처리 및 피처엔지니어링"
      ],
      "metadata": {
        "id": "KnNu9bH3kJfD"
      }
    },
    {
      "cell_type": "code",
      "source": [
        "# 수치형 데이터와 범주형 데이터 분리\n",
        "n_train = train.select_dtypes(exclude = \"O\").copy()\n",
        "c_train = train.select_dtypes(include = \"O\").copy()\n",
        "n_test = test.select_dtypes(exclude = \"O\").copy()\n",
        "c_test = test.select_dtypes(include = \"O\").copy()\n"
      ],
      "metadata": {
        "id": "JAglZ4dipalH"
      },
      "execution_count": 13,
      "outputs": []
    },
    {
      "cell_type": "code",
      "source": [
        "col = train.select_dtypes(exclude = \"O\").columns\n",
        "col"
      ],
      "metadata": {
        "colab": {
          "base_uri": "https://localhost:8080/"
        },
        "id": "A0Bv37wabc2l",
        "outputId": "6bb0209b-5160-4d49-85d0-63d27c682a8f"
      },
      "execution_count": 19,
      "outputs": [
        {
          "output_type": "execute_result",
          "data": {
            "text/plain": [
              "Index(['Unnamed: 0', 'Age', 'AnnualIncome', 'FamilyMembers', 'ChronicDiseases',\n",
              "       'TravelInsurance'],\n",
              "      dtype='object')"
            ]
          },
          "metadata": {},
          "execution_count": 19
        }
      ]
    },
    {
      "cell_type": "code",
      "source": [
        "# 수치형 변수 스케일링\n",
        "from sklearn.preprocessing import MinMaxScaler\n",
        "cols =[ 'Age', 'AnnualIncome', 'FamilyMembers', 'ChronicDiseases']\n",
        "scaler = MinMaxScaler()\n",
        "n_train[cols] = scaler.fit_transform(n_train[cols])\n",
        "n_test[cols] = scaler.transform(n_test[cols])\n",
        "\n",
        "print(n_train.head(),n_test.head())"
      ],
      "metadata": {
        "id": "Q5n67S9isN2r",
        "colab": {
          "base_uri": "https://localhost:8080/"
        },
        "outputId": "c1dd1876-6588-40eb-a135-462e4cef5633"
      },
      "execution_count": 22,
      "outputs": [
        {
          "output_type": "stream",
          "name": "stdout",
          "text": [
            "   Unnamed: 0  Age  AnnualIncome  FamilyMembers  ChronicDiseases  \\\n",
            "0         888  0.3      0.633333       0.571429              1.0   \n",
            "1        1308  0.6      0.633333       0.714286              1.0   \n",
            "2         151  0.4      0.600000       0.714286              0.0   \n",
            "3         396  0.8      0.233333       0.571429              1.0   \n",
            "4         135  0.3      0.333333       0.571429              0.0   \n",
            "\n",
            "   TravelInsurance  \n",
            "0                0  \n",
            "1                0  \n",
            "2                1  \n",
            "3                1  \n",
            "4                1      Unnamed: 0   Age  AnnualIncome  FamilyMembers  ChronicDiseases\n",
            "0         920  32.0      650000.0            5.0              0.0\n",
            "1         777  27.0      500000.0            5.0              0.0\n",
            "2         696  32.0      350000.0            2.0              0.0\n",
            "3         907  26.0     1400000.0            6.0              0.0\n",
            "4         675  27.0      350000.0            3.0              0.0\n"
          ]
        }
      ]
    },
    {
      "cell_type": "code",
      "source": [
        "col = train.select_dtypes(include = \"O\").columns\n",
        "col"
      ],
      "metadata": {
        "colab": {
          "base_uri": "https://localhost:8080/"
        },
        "id": "zHj-asl0b7nU",
        "outputId": "e1128b6a-9866-4e82-c36a-b0b2056e40c1"
      },
      "execution_count": 25,
      "outputs": [
        {
          "output_type": "execute_result",
          "data": {
            "text/plain": [
              "Index(['Employment Type', 'GraduateOrNot', 'FrequentFlyer',\n",
              "       'EverTravelledAbroad'],\n",
              "      dtype='object')"
            ]
          },
          "metadata": {},
          "execution_count": 25
        }
      ]
    },
    {
      "cell_type": "code",
      "source": [
        "# 범주형 변수 인코딩\n",
        "from sklearn.preprocessing import LabelEncoder\n",
        "cols = ['Employment Type', 'GraduateOrNot', 'FrequentFlyer','EverTravelledAbroad']\n",
        "\n",
        "for col in cols:\n",
        "    scaler = LabelEncoder()\n",
        "    c_train[col] = scaler.fit_transform(c_train[col])\n",
        "    c_test[col] = scaler.transform(c_test[col])\n",
        "\n",
        "print(c_train.head())\n",
        "print(c_test.head())"
      ],
      "metadata": {
        "id": "58MMwhWvWK6m",
        "colab": {
          "base_uri": "https://localhost:8080/"
        },
        "outputId": "b7fe9f72-73d3-478f-f9ed-3616db649aed"
      },
      "execution_count": 27,
      "outputs": [
        {
          "output_type": "stream",
          "name": "stdout",
          "text": [
            "   Employment Type  GraduateOrNot  FrequentFlyer  EverTravelledAbroad\n",
            "0                1              1              0                    0\n",
            "1                1              1              0                    0\n",
            "2                1              1              0                    0\n",
            "3                0              1              0                    0\n",
            "4                1              1              0                    1\n",
            "   Employment Type  GraduateOrNot  FrequentFlyer  EverTravelledAbroad\n",
            "0                0              1              0                    0\n",
            "1                0              1              0                    0\n",
            "2                0              1              0                    0\n",
            "3                1              1              0                    1\n",
            "4                1              0              0                    0\n"
          ]
        }
      ]
    },
    {
      "cell_type": "code",
      "source": [
        "# 분리한 데이터 다시 합침\n",
        "train = pd.concat([n_train,c_train], axis = 1)\n",
        "test = pd.concat([n_test, c_test],axis = 1)\n",
        "print(train.shape,test.shape)\n",
        "print(train.head())"
      ],
      "metadata": {
        "id": "4u8sKvxvWK9C",
        "colab": {
          "base_uri": "https://localhost:8080/"
        },
        "outputId": "8f2b1cee-bc5e-45fc-d775-d20996104c5d"
      },
      "execution_count": 29,
      "outputs": [
        {
          "output_type": "stream",
          "name": "stdout",
          "text": [
            "(1490, 10) (497, 9)\n",
            "   Unnamed: 0  Age  AnnualIncome  FamilyMembers  ChronicDiseases  \\\n",
            "0         888  0.3      0.633333       0.571429              1.0   \n",
            "1        1308  0.6      0.633333       0.714286              1.0   \n",
            "2         151  0.4      0.600000       0.714286              0.0   \n",
            "3         396  0.8      0.233333       0.571429              1.0   \n",
            "4         135  0.3      0.333333       0.571429              0.0   \n",
            "\n",
            "   TravelInsurance  Employment Type  GraduateOrNot  FrequentFlyer  \\\n",
            "0                0                1              1              0   \n",
            "1                0                1              1              0   \n",
            "2                1                1              1              0   \n",
            "3                1                0              1              0   \n",
            "4                1                1              1              0   \n",
            "\n",
            "   EverTravelledAbroad  \n",
            "0                    0  \n",
            "1                    0  \n",
            "2                    0  \n",
            "3                    0  \n",
            "4                    1  \n"
          ]
        }
      ]
    },
    {
      "cell_type": "markdown",
      "source": [
        "## 검증데이터 분리"
      ],
      "metadata": {
        "id": "6xji7dInWPIt"
      }
    },
    {
      "cell_type": "code",
      "source": [
        "# 검증데이터 분리\n",
        "from sklearn.model_selection import train_test_split\n",
        "X_tr,X_val,y_tr,y_val = train_test_split(train.drop('TravelInsurance',axis=1),\n",
        "                                         train['TravelInsurance'],\n",
        "                                         test_size = 0.1,\n",
        "                                         random_state = 2022)\n",
        "\n",
        "X_tr.shape, X_val.shape, y_tr.shape, y_val.shape"
      ],
      "metadata": {
        "id": "5Tm50rN8WLCC",
        "colab": {
          "base_uri": "https://localhost:8080/"
        },
        "outputId": "641a3379-a4cd-47d7-e474-bf1b30569615"
      },
      "execution_count": 33,
      "outputs": [
        {
          "output_type": "execute_result",
          "data": {
            "text/plain": [
              "((1341, 9), (149, 9), (1341,), (149,))"
            ]
          },
          "metadata": {},
          "execution_count": 33
        }
      ]
    },
    {
      "cell_type": "markdown",
      "source": [
        "## 모델 학습 및 예측"
      ],
      "metadata": {
        "id": "LyQpOqabwezg"
      }
    },
    {
      "cell_type": "code",
      "source": [
        "# 랜덤포레스트\n",
        "from sklearn.ensemble import RandomForestClassifier\n",
        "model = RandomForestClassifier(n_estimators = 400, max_depth=9,random_state=2022)\n",
        "model.fit(X_tr,y_tr)\n",
        "pred = model.predict_proba(X_val)\n"
      ],
      "metadata": {
        "id": "CCcKbm3YWRqq"
      },
      "execution_count": 44,
      "outputs": []
    },
    {
      "cell_type": "code",
      "source": [
        "help(RandomForestClassifier)"
      ],
      "metadata": {
        "id": "SX9L0YI1hvcT"
      },
      "execution_count": null,
      "outputs": []
    },
    {
      "cell_type": "code",
      "source": [
        "# 평가\n",
        "from sklearn.metrics import roc_auc_score\n",
        "print(roc_auc_score(y_val,pred[:,1]))"
      ],
      "metadata": {
        "id": "eRtHFtY3WRvD",
        "colab": {
          "base_uri": "https://localhost:8080/"
        },
        "outputId": "88d41c7b-0ab2-4e29-e9ba-8ebc365cb24c"
      },
      "execution_count": 45,
      "outputs": [
        {
          "output_type": "stream",
          "name": "stdout",
          "text": [
            "0.7006493506493505\n"
          ]
        }
      ]
    },
    {
      "cell_type": "markdown",
      "source": [
        "## 예측"
      ],
      "metadata": {
        "id": "uzcaytQFWbEg"
      }
    },
    {
      "cell_type": "code",
      "source": [
        "# test 예측\n",
        "pred = model.predict_proba(test)[:,1]"
      ],
      "metadata": {
        "id": "3cdDgmw4Wh9e"
      },
      "execution_count": 46,
      "outputs": []
    },
    {
      "cell_type": "code",
      "source": [
        "# csv 파일1 생성 (예시와 다른 형태)\n",
        "submit = pd.DataFrame({\n",
        "                        \"index\":test.index,\n",
        "                        \"y_pred\":pred\n",
        "})\n",
        "\n",
        "submit.to_csv('0000.csv',index=False)"
      ],
      "metadata": {
        "id": "J_wOL-yWWYu9"
      },
      "execution_count": 48,
      "outputs": []
    },
    {
      "cell_type": "code",
      "source": [
        "# csv 파일2 생성\n"
      ],
      "metadata": {
        "id": "1QLrPD6iWYxc"
      },
      "execution_count": null,
      "outputs": []
    },
    {
      "cell_type": "code",
      "source": [
        "# csv 파일1 확인\n",
        "pd.read_csv(\"0000.csv\")\n"
      ],
      "metadata": {
        "id": "e_E1YQSjWmvD",
        "colab": {
          "base_uri": "https://localhost:8080/",
          "height": 423
        },
        "outputId": "1a83e423-f332-44d0-f4bb-78bd10efd1d0"
      },
      "execution_count": 49,
      "outputs": [
        {
          "output_type": "execute_result",
          "data": {
            "text/plain": [
              "     index    y_pred\n",
              "0        0  0.650684\n",
              "1        1  0.611844\n",
              "2        2  0.601844\n",
              "3        3  0.816258\n",
              "4        4  0.641742\n",
              "..     ...       ...\n",
              "492    492  0.674775\n",
              "493    493  0.824858\n",
              "494    494  0.747142\n",
              "495    495  0.837187\n",
              "496    496  0.797358\n",
              "\n",
              "[497 rows x 2 columns]"
            ],
            "text/html": [
              "\n",
              "  <div id=\"df-5bda1bb9-760e-44f8-9bfa-18e35db77438\">\n",
              "    <div class=\"colab-df-container\">\n",
              "      <div>\n",
              "<style scoped>\n",
              "    .dataframe tbody tr th:only-of-type {\n",
              "        vertical-align: middle;\n",
              "    }\n",
              "\n",
              "    .dataframe tbody tr th {\n",
              "        vertical-align: top;\n",
              "    }\n",
              "\n",
              "    .dataframe thead th {\n",
              "        text-align: right;\n",
              "    }\n",
              "</style>\n",
              "<table border=\"1\" class=\"dataframe\">\n",
              "  <thead>\n",
              "    <tr style=\"text-align: right;\">\n",
              "      <th></th>\n",
              "      <th>index</th>\n",
              "      <th>y_pred</th>\n",
              "    </tr>\n",
              "  </thead>\n",
              "  <tbody>\n",
              "    <tr>\n",
              "      <th>0</th>\n",
              "      <td>0</td>\n",
              "      <td>0.650684</td>\n",
              "    </tr>\n",
              "    <tr>\n",
              "      <th>1</th>\n",
              "      <td>1</td>\n",
              "      <td>0.611844</td>\n",
              "    </tr>\n",
              "    <tr>\n",
              "      <th>2</th>\n",
              "      <td>2</td>\n",
              "      <td>0.601844</td>\n",
              "    </tr>\n",
              "    <tr>\n",
              "      <th>3</th>\n",
              "      <td>3</td>\n",
              "      <td>0.816258</td>\n",
              "    </tr>\n",
              "    <tr>\n",
              "      <th>4</th>\n",
              "      <td>4</td>\n",
              "      <td>0.641742</td>\n",
              "    </tr>\n",
              "    <tr>\n",
              "      <th>...</th>\n",
              "      <td>...</td>\n",
              "      <td>...</td>\n",
              "    </tr>\n",
              "    <tr>\n",
              "      <th>492</th>\n",
              "      <td>492</td>\n",
              "      <td>0.674775</td>\n",
              "    </tr>\n",
              "    <tr>\n",
              "      <th>493</th>\n",
              "      <td>493</td>\n",
              "      <td>0.824858</td>\n",
              "    </tr>\n",
              "    <tr>\n",
              "      <th>494</th>\n",
              "      <td>494</td>\n",
              "      <td>0.747142</td>\n",
              "    </tr>\n",
              "    <tr>\n",
              "      <th>495</th>\n",
              "      <td>495</td>\n",
              "      <td>0.837187</td>\n",
              "    </tr>\n",
              "    <tr>\n",
              "      <th>496</th>\n",
              "      <td>496</td>\n",
              "      <td>0.797358</td>\n",
              "    </tr>\n",
              "  </tbody>\n",
              "</table>\n",
              "<p>497 rows × 2 columns</p>\n",
              "</div>\n",
              "      <button class=\"colab-df-convert\" onclick=\"convertToInteractive('df-5bda1bb9-760e-44f8-9bfa-18e35db77438')\"\n",
              "              title=\"Convert this dataframe to an interactive table.\"\n",
              "              style=\"display:none;\">\n",
              "        \n",
              "  <svg xmlns=\"http://www.w3.org/2000/svg\" height=\"24px\"viewBox=\"0 0 24 24\"\n",
              "       width=\"24px\">\n",
              "    <path d=\"M0 0h24v24H0V0z\" fill=\"none\"/>\n",
              "    <path d=\"M18.56 5.44l.94 2.06.94-2.06 2.06-.94-2.06-.94-.94-2.06-.94 2.06-2.06.94zm-11 1L8.5 8.5l.94-2.06 2.06-.94-2.06-.94L8.5 2.5l-.94 2.06-2.06.94zm10 10l.94 2.06.94-2.06 2.06-.94-2.06-.94-.94-2.06-.94 2.06-2.06.94z\"/><path d=\"M17.41 7.96l-1.37-1.37c-.4-.4-.92-.59-1.43-.59-.52 0-1.04.2-1.43.59L10.3 9.45l-7.72 7.72c-.78.78-.78 2.05 0 2.83L4 21.41c.39.39.9.59 1.41.59.51 0 1.02-.2 1.41-.59l7.78-7.78 2.81-2.81c.8-.78.8-2.07 0-2.86zM5.41 20L4 18.59l7.72-7.72 1.47 1.35L5.41 20z\"/>\n",
              "  </svg>\n",
              "      </button>\n",
              "      \n",
              "  <style>\n",
              "    .colab-df-container {\n",
              "      display:flex;\n",
              "      flex-wrap:wrap;\n",
              "      gap: 12px;\n",
              "    }\n",
              "\n",
              "    .colab-df-convert {\n",
              "      background-color: #E8F0FE;\n",
              "      border: none;\n",
              "      border-radius: 50%;\n",
              "      cursor: pointer;\n",
              "      display: none;\n",
              "      fill: #1967D2;\n",
              "      height: 32px;\n",
              "      padding: 0 0 0 0;\n",
              "      width: 32px;\n",
              "    }\n",
              "\n",
              "    .colab-df-convert:hover {\n",
              "      background-color: #E2EBFA;\n",
              "      box-shadow: 0px 1px 2px rgba(60, 64, 67, 0.3), 0px 1px 3px 1px rgba(60, 64, 67, 0.15);\n",
              "      fill: #174EA6;\n",
              "    }\n",
              "\n",
              "    [theme=dark] .colab-df-convert {\n",
              "      background-color: #3B4455;\n",
              "      fill: #D2E3FC;\n",
              "    }\n",
              "\n",
              "    [theme=dark] .colab-df-convert:hover {\n",
              "      background-color: #434B5C;\n",
              "      box-shadow: 0px 1px 3px 1px rgba(0, 0, 0, 0.15);\n",
              "      filter: drop-shadow(0px 1px 2px rgba(0, 0, 0, 0.3));\n",
              "      fill: #FFFFFF;\n",
              "    }\n",
              "  </style>\n",
              "\n",
              "      <script>\n",
              "        const buttonEl =\n",
              "          document.querySelector('#df-5bda1bb9-760e-44f8-9bfa-18e35db77438 button.colab-df-convert');\n",
              "        buttonEl.style.display =\n",
              "          google.colab.kernel.accessAllowed ? 'block' : 'none';\n",
              "\n",
              "        async function convertToInteractive(key) {\n",
              "          const element = document.querySelector('#df-5bda1bb9-760e-44f8-9bfa-18e35db77438');\n",
              "          const dataTable =\n",
              "            await google.colab.kernel.invokeFunction('convertToInteractive',\n",
              "                                                     [key], {});\n",
              "          if (!dataTable) return;\n",
              "\n",
              "          const docLinkHtml = 'Like what you see? Visit the ' +\n",
              "            '<a target=\"_blank\" href=https://colab.research.google.com/notebooks/data_table.ipynb>data table notebook</a>'\n",
              "            + ' to learn more about interactive tables.';\n",
              "          element.innerHTML = '';\n",
              "          dataTable['output_type'] = 'display_data';\n",
              "          await google.colab.output.renderOutput(dataTable, element);\n",
              "          const docLink = document.createElement('div');\n",
              "          docLink.innerHTML = docLinkHtml;\n",
              "          element.appendChild(docLink);\n",
              "        }\n",
              "      </script>\n",
              "    </div>\n",
              "  </div>\n",
              "  "
            ]
          },
          "metadata": {},
          "execution_count": 49
        }
      ]
    },
    {
      "cell_type": "code",
      "source": [
        "# csv 파일2 확인\n"
      ],
      "metadata": {
        "id": "zWqTvd9OWmxw"
      },
      "execution_count": null,
      "outputs": []
    },
    {
      "cell_type": "markdown",
      "source": [
        "## 체점\n",
        "- 수험자는 알 수 없는 부분임"
      ],
      "metadata": {
        "id": "9-zAKxt2uzFa"
      }
    },
    {
      "cell_type": "code",
      "source": [
        "y_test = pd.read_csv(\"y_test.csv\")\n",
        "roc_auc_score(y_test, pred)"
      ],
      "metadata": {
        "id": "ofAnKoNVu0At",
        "colab": {
          "base_uri": "https://localhost:8080/"
        },
        "outputId": "012863f7-4a91-4763-b759-4db578354a57"
      },
      "execution_count": 50,
      "outputs": [
        {
          "output_type": "execute_result",
          "data": {
            "text/plain": [
              "0.6630977130977131"
            ]
          },
          "metadata": {},
          "execution_count": 50
        }
      ]
    },
    {
      "cell_type": "code",
      "source": [
        "# 당신의 score는?: 0.7875693000693"
      ],
      "metadata": {
        "id": "r-L5ToHOvqWX"
      },
      "execution_count": null,
      "outputs": []
    }
  ]
}