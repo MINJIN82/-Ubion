{
  "nbformat": 4,
  "nbformat_minor": 0,
  "metadata": {
    "colab": {
      "provenance": []
    },
    "kernelspec": {
      "name": "python3",
      "display_name": "Python 3"
    },
    "language_info": {
      "name": "python"
    }
  },
  "cells": [
    {
      "cell_type": "code",
      "execution_count": 2,
      "metadata": {
        "colab": {
          "base_uri": "https://localhost:8080/"
        },
        "id": "AfnVDbyaV6Wr",
        "outputId": "01caa8ba-d434-4703-96b8-1c071dfed89f"
      },
      "outputs": [
        {
          "output_type": "execute_result",
          "data": {
            "text/plain": [
              "True"
            ]
          },
          "metadata": {},
          "execution_count": 2
        }
      ],
      "source": [
        "\"a\" in \"abc\"\n",
        "#문자\"a\"가 \"abc\"안에 있는지\n",
        "#포함되어 있다면 true 아니면 false"
      ]
    },
    {
      "cell_type": "code",
      "source": [
        "1 in [1,2,3,4]\n",
        "#리스트도 마찬가지로 가능하다"
      ],
      "metadata": {
        "colab": {
          "base_uri": "https://localhost:8080/"
        },
        "id": "Udnn1ILkXoTC",
        "outputId": "fe25e664-c307-4c00-8d6d-5eb54880ee8b"
      },
      "execution_count": 3,
      "outputs": [
        {
          "output_type": "execute_result",
          "data": {
            "text/plain": [
              "True"
            ]
          },
          "metadata": {},
          "execution_count": 3
        }
      ]
    },
    {
      "cell_type": "code",
      "source": [
        "1 not in [1,2,3,4]"
      ],
      "metadata": {
        "colab": {
          "base_uri": "https://localhost:8080/"
        },
        "id": "Fjfu8C4hXqqF",
        "outputId": "d7a76f9e-9f9c-4ec6-e525-f84c2ba5d471"
      },
      "execution_count": 4,
      "outputs": [
        {
          "output_type": "execute_result",
          "data": {
            "text/plain": [
              "False"
            ]
          },
          "metadata": {},
          "execution_count": 4
        }
      ]
    },
    {
      "cell_type": "code",
      "source": [
        "score = 62\n",
        "\n",
        "if score > 90 :\n",
        "    print(\"A\")\n",
        "elif score > 80 :\n",
        "    print(\"B\")\n",
        "elif score >70 :\n",
        "    print(\"C\")\n",
        "elif score > 60 :\n",
        "    print(\"D\")\n",
        "else :\n",
        "    print(\"F\")\n",
        "\n",
        "#간단한 if문 사용"
      ],
      "metadata": {
        "colab": {
          "base_uri": "https://localhost:8080/"
        },
        "id": "8970e6clXt48",
        "outputId": "623aa446-1ab2-4d66-f483-2fd51ab6dc99"
      },
      "execution_count": 12,
      "outputs": [
        {
          "output_type": "stream",
          "name": "stdout",
          "text": [
            "D\n"
          ]
        }
      ]
    },
    {
      "cell_type": "code",
      "source": [
        "try : \n",
        "    1/3\n",
        "except :\n",
        "    print(\"분모가 0이 나왔음\")\n",
        "else :\n",
        "    print(\"분모 이상없음\")"
      ],
      "metadata": {
        "colab": {
          "base_uri": "https://localhost:8080/"
        },
        "id": "eXQQ5swSbf4H",
        "outputId": "f965bf9c-a491-4e83-ebe7-92bb7042f889"
      },
      "execution_count": 20,
      "outputs": [
        {
          "output_type": "stream",
          "name": "stdout",
          "text": [
            "분모 이상없음\n"
          ]
        }
      ]
    },
    {
      "cell_type": "code",
      "source": [
        "#반복문 while , for\n",
        "i = 0 \n",
        "while i < 10 : #i가 10미만이라면 4행 명령을 실행해라\n",
        "    i=i+1      #i에 1을 더한다\n",
        "    print(i)   #1이 더해진 1을 프린트한다.\n"
      ],
      "metadata": {
        "colab": {
          "base_uri": "https://localhost:8080/"
        },
        "id": "WZOswJGfc03y",
        "outputId": "e804e41b-95b1-4e00-f2d7-1f261acca1cb"
      },
      "execution_count": 23,
      "outputs": [
        {
          "output_type": "stream",
          "name": "stdout",
          "text": [
            "1\n",
            "2\n",
            "3\n",
            "4\n",
            "5\n",
            "6\n",
            "7\n",
            "8\n",
            "9\n",
            "10\n"
          ]
        }
      ]
    },
    {
      "cell_type": "code",
      "source": [
        "for i in range(10) :\n",
        "    print(i)"
      ],
      "metadata": {
        "colab": {
          "base_uri": "https://localhost:8080/"
        },
        "id": "EAiK0CDheJvt",
        "outputId": "f1376aeb-b792-4295-8592-aede38dbd9f5"
      },
      "execution_count": 35,
      "outputs": [
        {
          "output_type": "stream",
          "name": "stdout",
          "text": [
            "0\n",
            "1\n",
            "2\n",
            "3\n",
            "4\n",
            "5\n",
            "6\n",
            "7\n",
            "8\n",
            "9\n"
          ]
        }
      ]
    },
    {
      "cell_type": "code",
      "source": [
        "j = 0\n",
        "for i in range(10) :\n",
        "    j += i\n",
        "    print(j)"
      ],
      "metadata": {
        "colab": {
          "base_uri": "https://localhost:8080/"
        },
        "id": "IZAjhMdfedsQ",
        "outputId": "14f61300-124f-4d9e-c231-e230e08b644b"
      },
      "execution_count": 26,
      "outputs": [
        {
          "output_type": "stream",
          "name": "stdout",
          "text": [
            "0\n",
            "1\n",
            "3\n",
            "6\n",
            "10\n",
            "15\n",
            "21\n",
            "28\n",
            "36\n",
            "45\n"
          ]
        }
      ]
    },
    {
      "cell_type": "code",
      "source": [
        "for i in range(5,10) : \n",
        "    print(i, end = \" \")\n",
        "#end 뒤 공백은 결과값 사이사이 공백을 의미한다."
      ],
      "metadata": {
        "colab": {
          "base_uri": "https://localhost:8080/"
        },
        "id": "BEispOxLfe8t",
        "outputId": "d0efc466-0a35-446a-da2b-5dbdc7918910"
      },
      "execution_count": 28,
      "outputs": [
        {
          "output_type": "stream",
          "name": "stdout",
          "text": [
            "5 6 7 8 9 "
          ]
        }
      ]
    },
    {
      "cell_type": "code",
      "source": [
        "def f(a) :\n",
        "    out = a/3\n",
        "    return out\n",
        "\n",
        "f(30)"
      ],
      "metadata": {
        "colab": {
          "base_uri": "https://localhost:8080/"
        },
        "id": "aenB5my-f_Yy",
        "outputId": "5d547eea-38a1-4439-ad7f-e05d91785ec2"
      },
      "execution_count": 34,
      "outputs": [
        {
          "output_type": "execute_result",
          "data": {
            "text/plain": [
              "10.0"
            ]
          },
          "metadata": {},
          "execution_count": 34
        }
      ]
    }
  ]
}